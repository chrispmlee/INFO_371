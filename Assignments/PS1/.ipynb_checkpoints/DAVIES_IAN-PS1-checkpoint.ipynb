{
 "cells": [
  {
   "cell_type": "markdown",
   "metadata": {},
   "source": [
    "##### Problem Set 1, due April 5th at 5:30pm \n",
    "\n",
    "\n",
    "###Before You Start\n",
    "Make sure to at least take a basic tutorial in the IPython notebook, otherwise you'll be totally lost.  For this problem set, you should download INFX574-PS1.ipynb and the flights.zip dataset from Canvas. Create a local copy of the notebook and rename it LASTNAME_FIRSTNAME-PS1.ipynb. Then edit your renamed file directly in your browser by typing:\n",
    "```\n",
    "ipython notebook <name_of_downloaded_file>\n",
    "```\n",
    "\n",
    "You should also make sure the following libraries load correctly (click on the box below and hit Ctrl-Enter)"
   ]
  },
  {
   "cell_type": "code",
   "execution_count": 3,
   "metadata": {},
   "outputs": [
    {
     "name": "stdout",
     "output_type": "stream",
     "text": [
      "IPython version:       6.2.1 (need at least 1.0)\n",
      "Numpy version:        1.14.0 (need at least 1.7.1)\n",
      "SciPy version:         1.0.0 (need at least 0.12.0)\n",
      "Pandas version:       0.22.0 (need at least 0.11.0)\n",
      "Mapltolib version:     2.1.2 (need at least 1.2.1)\n",
      "Scikit-Learn version: 0.19.1 (need at least 0.13.1)\n"
     ]
    }
   ],
   "source": [
    "# #IPython is what you are using now to run the notebook\n",
    "import IPython\n",
    "print(\"IPython version:      %6.6s (need at least 1.0)\" % IPython.__version__)\n",
    "\n",
    "# Numpy is a library for working with Arrays\n",
    "import numpy as np\n",
    "print(\"Numpy version:        %6.6s (need at least 1.7.1)\" % np.__version__)\n",
    "\n",
    "# SciPy implements many different numerical algorithms\n",
    "import scipy as sp\n",
    "print(\"SciPy version:        %6.6s (need at least 0.12.0)\" % sp.__version__)\n",
    "\n",
    "# Pandas makes working with data tables easier\n",
    "import pandas as pd\n",
    "print(\"Pandas version:       %6.6s (need at least 0.11.0)\" % pd.__version__)\n",
    "\n",
    "# Module for plotting\n",
    "import matplotlib\n",
    "print(\"Mapltolib version:    %6.6s (need at least 1.2.1)\" % matplotlib.__version__)\n",
    "\n",
    "# SciKit Learn implements several Machine Learning algorithms\n",
    "import sklearn\n",
    "print(\"Scikit-Learn version: %6.6s (need at least 0.13.1)\" % sklearn.__version__)"
   ]
  },
  {
   "cell_type": "markdown",
   "metadata": {},
   "source": [
    "##About the Problem Set: \n",
    "This is the same problem set used by Emma Spiro in INFX573. The only difference is that instead of doing the problem set in R, you will use Python and the IPython notebook.\n",
    "\n",
    "##Instructions: \n",
    "In this problem set you will perform a basic exploratory analysis on an example dataset, bringing to bear all of your new skills in data manipulation and visualization. You will be required to submit well commented python code, documenting all code used in this problem set, along with a write up answering all questions below. Use figures as appropriate to support your answers, and when required by the problem. \n",
    "This data set uses the NYCFlights13 dataset. You can download the dataset from canvas.\n",
    "Selected questions ask you to answer in multiple ways. Make sure to provide different functions or ways for answering the same question. This will help you see that most data questions can be answered in different ways even with the same software language."
   ]
  },
  {
   "cell_type": "code",
   "execution_count": 114,
   "metadata": {},
   "outputs": [],
   "source": [
    "import pandas as pd\n",
    "import numpy as np\n",
    "import matplotlib.pyplot as plt\n",
    "from functools import reduce"
   ]
  },
  {
   "cell_type": "code",
   "execution_count": 3,
   "metadata": {},
   "outputs": [],
   "source": [
    "flights_df= pd.read_csv('flights/flights.csv')"
   ]
  },
  {
   "cell_type": "code",
   "execution_count": 4,
   "metadata": {},
   "outputs": [
    {
     "name": "stdout",
     "output_type": "stream",
     "text": [
      "(336776, 17)\n",
      "Index(['Unnamed: 0', 'year', 'month', 'day', 'dep_time', 'dep_delay',\n",
      "       'arr_time', 'arr_delay', 'carrier', 'tailnum', 'flight', 'origin',\n",
      "       'dest', 'air_time', 'distance', 'hour', 'minute'],\n",
      "      dtype='object')\n",
      "Unnamed: 0      int64\n",
      "year            int64\n",
      "month           int64\n",
      "day             int64\n",
      "dep_time      float64\n",
      "dep_delay     float64\n",
      "arr_time      float64\n",
      "arr_delay     float64\n",
      "carrier        object\n",
      "tailnum        object\n",
      "flight          int64\n",
      "origin         object\n",
      "dest           object\n",
      "air_time      float64\n",
      "distance        int64\n",
      "hour          float64\n",
      "minute        float64\n",
      "dtype: object\n"
     ]
    }
   ],
   "source": [
    "print(flights_df.shape)\n",
    "print(flights_df.columns)\n",
    "print(flights_df.dtypes)"
   ]
  },
  {
   "cell_type": "code",
   "execution_count": 5,
   "metadata": {},
   "outputs": [
    {
     "name": "stdout",
     "output_type": "stream",
     "text": [
      "['IAH' 'MIA' 'BQN' 'ATL' 'ORD' 'FLL' 'IAD' 'MCO' 'PBI' 'TPA' 'LAX' 'SFO'\n",
      " 'DFW' 'BOS' 'LAS' 'MSP' 'DTW' 'RSW' 'SJU' 'PHX' 'BWI' 'CLT' 'BUF' 'DEN'\n",
      " 'SNA' 'MSY' 'SLC' 'XNA' 'MKE' 'SEA' 'ROC' 'SYR' 'SRQ' 'RDU' 'CMH' 'JAX'\n",
      " 'CHS' 'MEM' 'PIT' 'SAN' 'DCA' 'CLE' 'STL' 'MYR' 'JAC' 'MDW' 'HNL' 'BNA'\n",
      " 'AUS' 'BTV' 'PHL' 'STT' 'EGE' 'AVL' 'PWM' 'IND' 'SAV' 'CAK' 'HOU' 'LGB'\n",
      " 'DAY' 'ALB' 'BDL' 'MHT' 'MSN' 'GSO' 'CVG' 'BUR' 'RIC' 'GSP' 'GRR' 'MCI'\n",
      " 'ORF' 'SAT' 'SDF' 'PDX' 'SJC' 'OMA' 'CRW' 'OAK' 'SMF' 'TUL' 'TYS' 'OKC'\n",
      " 'PVD' 'DSM' 'PSE' 'BHM' 'CAE' 'HDN' 'BZN' 'MTJ' 'EYW' 'PSP' 'ACK' 'BGR'\n",
      " 'ABQ' 'ILM' 'MVY' 'SBN' 'LEX' 'CHO' 'TVC' 'ANC' 'LGA']\n"
     ]
    },
    {
     "data": {
      "text/html": [
       "<div>\n",
       "<style scoped>\n",
       "    .dataframe tbody tr th:only-of-type {\n",
       "        vertical-align: middle;\n",
       "    }\n",
       "\n",
       "    .dataframe tbody tr th {\n",
       "        vertical-align: top;\n",
       "    }\n",
       "\n",
       "    .dataframe thead th {\n",
       "        text-align: right;\n",
       "    }\n",
       "</style>\n",
       "<table border=\"1\" class=\"dataframe\">\n",
       "  <thead>\n",
       "    <tr style=\"text-align: right;\">\n",
       "      <th></th>\n",
       "      <th>Unnamed: 0</th>\n",
       "      <th>year</th>\n",
       "      <th>month</th>\n",
       "      <th>day</th>\n",
       "      <th>dep_time</th>\n",
       "      <th>dep_delay</th>\n",
       "      <th>arr_time</th>\n",
       "      <th>arr_delay</th>\n",
       "      <th>carrier</th>\n",
       "      <th>tailnum</th>\n",
       "      <th>flight</th>\n",
       "      <th>origin</th>\n",
       "      <th>dest</th>\n",
       "      <th>air_time</th>\n",
       "      <th>distance</th>\n",
       "      <th>hour</th>\n",
       "      <th>minute</th>\n",
       "    </tr>\n",
       "  </thead>\n",
       "  <tbody>\n",
       "    <tr>\n",
       "      <th>0</th>\n",
       "      <td>1</td>\n",
       "      <td>2013</td>\n",
       "      <td>1</td>\n",
       "      <td>1</td>\n",
       "      <td>517.0</td>\n",
       "      <td>2.0</td>\n",
       "      <td>830.0</td>\n",
       "      <td>11.0</td>\n",
       "      <td>UA</td>\n",
       "      <td>N14228</td>\n",
       "      <td>1545</td>\n",
       "      <td>EWR</td>\n",
       "      <td>IAH</td>\n",
       "      <td>227.0</td>\n",
       "      <td>1400</td>\n",
       "      <td>5.0</td>\n",
       "      <td>17.0</td>\n",
       "    </tr>\n",
       "    <tr>\n",
       "      <th>1</th>\n",
       "      <td>2</td>\n",
       "      <td>2013</td>\n",
       "      <td>1</td>\n",
       "      <td>1</td>\n",
       "      <td>533.0</td>\n",
       "      <td>4.0</td>\n",
       "      <td>850.0</td>\n",
       "      <td>20.0</td>\n",
       "      <td>UA</td>\n",
       "      <td>N24211</td>\n",
       "      <td>1714</td>\n",
       "      <td>LGA</td>\n",
       "      <td>IAH</td>\n",
       "      <td>227.0</td>\n",
       "      <td>1416</td>\n",
       "      <td>5.0</td>\n",
       "      <td>33.0</td>\n",
       "    </tr>\n",
       "    <tr>\n",
       "      <th>2</th>\n",
       "      <td>3</td>\n",
       "      <td>2013</td>\n",
       "      <td>1</td>\n",
       "      <td>1</td>\n",
       "      <td>542.0</td>\n",
       "      <td>2.0</td>\n",
       "      <td>923.0</td>\n",
       "      <td>33.0</td>\n",
       "      <td>AA</td>\n",
       "      <td>N619AA</td>\n",
       "      <td>1141</td>\n",
       "      <td>JFK</td>\n",
       "      <td>MIA</td>\n",
       "      <td>160.0</td>\n",
       "      <td>1089</td>\n",
       "      <td>5.0</td>\n",
       "      <td>42.0</td>\n",
       "    </tr>\n",
       "    <tr>\n",
       "      <th>3</th>\n",
       "      <td>4</td>\n",
       "      <td>2013</td>\n",
       "      <td>1</td>\n",
       "      <td>1</td>\n",
       "      <td>544.0</td>\n",
       "      <td>-1.0</td>\n",
       "      <td>1004.0</td>\n",
       "      <td>-18.0</td>\n",
       "      <td>B6</td>\n",
       "      <td>N804JB</td>\n",
       "      <td>725</td>\n",
       "      <td>JFK</td>\n",
       "      <td>BQN</td>\n",
       "      <td>183.0</td>\n",
       "      <td>1576</td>\n",
       "      <td>5.0</td>\n",
       "      <td>44.0</td>\n",
       "    </tr>\n",
       "    <tr>\n",
       "      <th>4</th>\n",
       "      <td>5</td>\n",
       "      <td>2013</td>\n",
       "      <td>1</td>\n",
       "      <td>1</td>\n",
       "      <td>554.0</td>\n",
       "      <td>-6.0</td>\n",
       "      <td>812.0</td>\n",
       "      <td>-25.0</td>\n",
       "      <td>DL</td>\n",
       "      <td>N668DN</td>\n",
       "      <td>461</td>\n",
       "      <td>LGA</td>\n",
       "      <td>ATL</td>\n",
       "      <td>116.0</td>\n",
       "      <td>762</td>\n",
       "      <td>5.0</td>\n",
       "      <td>54.0</td>\n",
       "    </tr>\n",
       "    <tr>\n",
       "      <th>5</th>\n",
       "      <td>6</td>\n",
       "      <td>2013</td>\n",
       "      <td>1</td>\n",
       "      <td>1</td>\n",
       "      <td>554.0</td>\n",
       "      <td>-4.0</td>\n",
       "      <td>740.0</td>\n",
       "      <td>12.0</td>\n",
       "      <td>UA</td>\n",
       "      <td>N39463</td>\n",
       "      <td>1696</td>\n",
       "      <td>EWR</td>\n",
       "      <td>ORD</td>\n",
       "      <td>150.0</td>\n",
       "      <td>719</td>\n",
       "      <td>5.0</td>\n",
       "      <td>54.0</td>\n",
       "    </tr>\n",
       "    <tr>\n",
       "      <th>6</th>\n",
       "      <td>7</td>\n",
       "      <td>2013</td>\n",
       "      <td>1</td>\n",
       "      <td>1</td>\n",
       "      <td>555.0</td>\n",
       "      <td>-5.0</td>\n",
       "      <td>913.0</td>\n",
       "      <td>19.0</td>\n",
       "      <td>B6</td>\n",
       "      <td>N516JB</td>\n",
       "      <td>507</td>\n",
       "      <td>EWR</td>\n",
       "      <td>FLL</td>\n",
       "      <td>158.0</td>\n",
       "      <td>1065</td>\n",
       "      <td>5.0</td>\n",
       "      <td>55.0</td>\n",
       "    </tr>\n",
       "    <tr>\n",
       "      <th>7</th>\n",
       "      <td>8</td>\n",
       "      <td>2013</td>\n",
       "      <td>1</td>\n",
       "      <td>1</td>\n",
       "      <td>557.0</td>\n",
       "      <td>-3.0</td>\n",
       "      <td>709.0</td>\n",
       "      <td>-14.0</td>\n",
       "      <td>EV</td>\n",
       "      <td>N829AS</td>\n",
       "      <td>5708</td>\n",
       "      <td>LGA</td>\n",
       "      <td>IAD</td>\n",
       "      <td>53.0</td>\n",
       "      <td>229</td>\n",
       "      <td>5.0</td>\n",
       "      <td>57.0</td>\n",
       "    </tr>\n",
       "    <tr>\n",
       "      <th>8</th>\n",
       "      <td>9</td>\n",
       "      <td>2013</td>\n",
       "      <td>1</td>\n",
       "      <td>1</td>\n",
       "      <td>557.0</td>\n",
       "      <td>-3.0</td>\n",
       "      <td>838.0</td>\n",
       "      <td>-8.0</td>\n",
       "      <td>B6</td>\n",
       "      <td>N593JB</td>\n",
       "      <td>79</td>\n",
       "      <td>JFK</td>\n",
       "      <td>MCO</td>\n",
       "      <td>140.0</td>\n",
       "      <td>944</td>\n",
       "      <td>5.0</td>\n",
       "      <td>57.0</td>\n",
       "    </tr>\n",
       "    <tr>\n",
       "      <th>9</th>\n",
       "      <td>10</td>\n",
       "      <td>2013</td>\n",
       "      <td>1</td>\n",
       "      <td>1</td>\n",
       "      <td>558.0</td>\n",
       "      <td>-2.0</td>\n",
       "      <td>753.0</td>\n",
       "      <td>8.0</td>\n",
       "      <td>AA</td>\n",
       "      <td>N3ALAA</td>\n",
       "      <td>301</td>\n",
       "      <td>LGA</td>\n",
       "      <td>ORD</td>\n",
       "      <td>138.0</td>\n",
       "      <td>733</td>\n",
       "      <td>5.0</td>\n",
       "      <td>58.0</td>\n",
       "    </tr>\n",
       "  </tbody>\n",
       "</table>\n",
       "</div>"
      ],
      "text/plain": [
       "   Unnamed: 0  year  month  day  dep_time  dep_delay  arr_time  arr_delay  \\\n",
       "0           1  2013      1    1     517.0        2.0     830.0       11.0   \n",
       "1           2  2013      1    1     533.0        4.0     850.0       20.0   \n",
       "2           3  2013      1    1     542.0        2.0     923.0       33.0   \n",
       "3           4  2013      1    1     544.0       -1.0    1004.0      -18.0   \n",
       "4           5  2013      1    1     554.0       -6.0     812.0      -25.0   \n",
       "5           6  2013      1    1     554.0       -4.0     740.0       12.0   \n",
       "6           7  2013      1    1     555.0       -5.0     913.0       19.0   \n",
       "7           8  2013      1    1     557.0       -3.0     709.0      -14.0   \n",
       "8           9  2013      1    1     557.0       -3.0     838.0       -8.0   \n",
       "9          10  2013      1    1     558.0       -2.0     753.0        8.0   \n",
       "\n",
       "  carrier tailnum  flight origin dest  air_time  distance  hour  minute  \n",
       "0      UA  N14228    1545    EWR  IAH     227.0      1400   5.0    17.0  \n",
       "1      UA  N24211    1714    LGA  IAH     227.0      1416   5.0    33.0  \n",
       "2      AA  N619AA    1141    JFK  MIA     160.0      1089   5.0    42.0  \n",
       "3      B6  N804JB     725    JFK  BQN     183.0      1576   5.0    44.0  \n",
       "4      DL  N668DN     461    LGA  ATL     116.0       762   5.0    54.0  \n",
       "5      UA  N39463    1696    EWR  ORD     150.0       719   5.0    54.0  \n",
       "6      B6  N516JB     507    EWR  FLL     158.0      1065   5.0    55.0  \n",
       "7      EV  N829AS    5708    LGA  IAD      53.0       229   5.0    57.0  \n",
       "8      B6  N593JB      79    JFK  MCO     140.0       944   5.0    57.0  \n",
       "9      AA  N3ALAA     301    LGA  ORD     138.0       733   5.0    58.0  "
      ]
     },
     "execution_count": 5,
     "metadata": {},
     "output_type": "execute_result"
    }
   ],
   "source": [
    "a = flights_df.dest.unique()\n",
    "print(a)\n",
    "flights_df.head(10)"
   ]
  },
  {
   "cell_type": "markdown",
   "metadata": {},
   "source": [
    "##Some Tips\n",
    "\n",
    "* This assignment involves extensive Data frame splitting and aggregation. You should look into the details of the methods groupby, transform, sum, count, mean etc\n",
    "* Many of the tasks in the assignment can be done either through the Pandas Data Frame or by converting the data frames to Series. Many of the methods in the numpy are applicable to Series only. When stuck, try to explore the type of object (Pandas Data Frame or Numpy Series) you are dealing with."
   ]
  },
  {
   "cell_type": "markdown",
   "metadata": {},
   "source": [
    "## Question 1\n",
    "Let’s explore flights from NYC to Seattle. Use the flights dataset to answer the following questions.\n",
    "\n",
    "(a) How many flights were there from NYC airports to Seattle in 2013?"
   ]
  },
  {
   "cell_type": "code",
   "execution_count": 6,
   "metadata": {},
   "outputs": [
    {
     "data": {
      "text/plain": [
       "3923"
      ]
     },
     "execution_count": 6,
     "metadata": {},
     "output_type": "execute_result"
    }
   ],
   "source": [
    "z = flights_df[(flights_df['dest'] == 'SEA') & (flights_df['year']==2013)]\n",
    "\n",
    "len(z)"
   ]
  },
  {
   "cell_type": "markdown",
   "metadata": {},
   "source": [
    "There were **3,923** flights from NYC (JFK or LGA) to Seattle (SEA) in 2013 "
   ]
  },
  {
   "cell_type": "markdown",
   "metadata": {},
   "source": [
    "(b) How many airlines fly from NYC to Seattle?"
   ]
  },
  {
   "cell_type": "code",
   "execution_count": 7,
   "metadata": {},
   "outputs": [
    {
     "data": {
      "text/plain": [
       "5"
      ]
     },
     "execution_count": 7,
     "metadata": {},
     "output_type": "execute_result"
    }
   ],
   "source": [
    "z = flights_df[(flights_df['dest'] == 'SEA')]\n",
    "\n",
    "len(z['carrier'].unique())\n"
   ]
  },
  {
   "cell_type": "markdown",
   "metadata": {},
   "source": [
    "**5** unique carriers fly from NYC to Seattle"
   ]
  },
  {
   "cell_type": "markdown",
   "metadata": {},
   "source": [
    "(c) How many unique air planes fly from NYC to Seattle?"
   ]
  },
  {
   "cell_type": "code",
   "execution_count": 8,
   "metadata": {},
   "outputs": [
    {
     "data": {
      "text/plain": [
       "936"
      ]
     },
     "execution_count": 8,
     "metadata": {},
     "output_type": "execute_result"
    }
   ],
   "source": [
    "len(z['tailnum'].unique())"
   ]
  },
  {
   "cell_type": "markdown",
   "metadata": {},
   "source": [
    "**936** unique airplanes fly from NYC to Seattle "
   ]
  },
  {
   "cell_type": "markdown",
   "metadata": {},
   "source": [
    "(d) What is the average arrival delay for flights from NC to Seattle?"
   ]
  },
  {
   "cell_type": "code",
   "execution_count": 9,
   "metadata": {},
   "outputs": [
    {
     "data": {
      "text/plain": [
       "-1.0990990990990992"
      ]
     },
     "execution_count": 9,
     "metadata": {},
     "output_type": "execute_result"
    }
   ],
   "source": [
    "z['arr_delay'].mean()\n"
   ]
  },
  {
   "cell_type": "markdown",
   "metadata": {},
   "source": [
    "The average arrival delay is actually **-1.10** minutes (meaning the planes arrive early, on average)"
   ]
  },
  {
   "cell_type": "markdown",
   "metadata": {},
   "source": [
    "(e) What proportion of flights to Seattle come from each NYC airport? Provide multiple ways of answering the question."
   ]
  },
  {
   "cell_type": "code",
   "execution_count": 10,
   "metadata": {},
   "outputs": [
    {
     "name": "stdout",
     "output_type": "stream",
     "text": [
      "0.0 , 0.5332653581442773 , 0.46673464185572267\n"
     ]
    },
    {
     "data": {
      "text/plain": [
       "origin  dest\n",
       "EWR     SEA     0.466735\n",
       "JFK     SEA     0.533265\n",
       "dtype: float64"
      ]
     },
     "execution_count": 10,
     "metadata": {},
     "output_type": "execute_result"
    }
   ],
   "source": [
    "#====== Method 1:\n",
    "\n",
    "# calculate total number of flights to Seattle\n",
    "z = flights_df[(flights_df['dest'] == 'SEA')]\n",
    "# calculate number of flights to Seattle from LGA\n",
    "lga = flights_df[(flights_df['origin']=='LGA') & (flights_df['dest'] == 'SEA')]\n",
    "# calculate number of flights to Seattle from JFK\n",
    "jfk = flights_df[(flights_df['origin']=='JFK') & (flights_df['dest'] == 'SEA')]\n",
    "# calculate number of flights to Seattle from JFK\n",
    "ewr = flights_df[(flights_df['origin']=='EWR') & (flights_df['dest'] == 'SEA')]\n",
    "# divide \n",
    "print(len(lga)/len(z),\",\", len(jfk)/len(z), \",\",  len(ewr)/len(z))\n",
    "\n",
    "#====== Method 2:\n",
    "\n",
    "# create a groupby object with values equal to the proportions of flights to SEA from each airport\n",
    "flights_df[(flights_df['dest'] == 'SEA')].groupby(['origin','dest']).size() / len(flights_df[(flights_df['dest'] == 'SEA')])\n",
    "\n",
    "\n",
    "\n",
    "\n",
    "\n"
   ]
  },
  {
   "cell_type": "markdown",
   "metadata": {},
   "source": [
    "**0%** of the flights to Seattle come from LGA, but nearly **53.3%** of the flights come from JFK, and **46.8%** come from EWR."
   ]
  },
  {
   "cell_type": "markdown",
   "metadata": {},
   "source": [
    "## Question 2\n",
    "Flights are often delayed. Consider the following questions exploring delay patterns.\n",
    "\n",
    "(a) Which date has the largest average departure delay? Which date has the largest average arrival delay?"
   ]
  },
  {
   "cell_type": "code",
   "execution_count": 11,
   "metadata": {},
   "outputs": [
    {
     "name": "stdout",
     "output_type": "stream",
     "text": [
      "2013-3-8 , 83.5369211514393 , 2013-3-8 , 85.86215538847118\n"
     ]
    }
   ],
   "source": [
    "# create unique date column\n",
    "flights_df = flights_df.assign(Date=flights_df.year.map(str) + \n",
    "                               \"-\" + flights_df.month.map(str) + \n",
    "                               \"-\" + flights_df.day.map(str))\n",
    "\n",
    "# groupby date and calculate average departure and arrival delays\n",
    "z = flights_df[['dep_delay','arr_delay']].groupby(flights_df['Date']).mean()\n",
    "\n",
    "# find date with max average delays\n",
    "print(z.dep_delay.idxmax(), \",\", z.dep_delay.max(), \",\",\n",
    "      z.arr_delay.idxmax(),  \",\", z.arr_delay.max())"
   ]
  },
  {
   "cell_type": "markdown",
   "metadata": {},
   "source": [
    "**March 8th, 2013** had the highest average departure delay at **83.54** minutes, and also the highest average arrival delay at **85.86** minutes. "
   ]
  },
  {
   "cell_type": "markdown",
   "metadata": {},
   "source": [
    "(b) What was the worst day to fly out of NYC in 2013 if you dislike delayed flights?\n"
   ]
  },
  {
   "cell_type": "code",
   "execution_count": 12,
   "metadata": {},
   "outputs": [
    {
     "data": {
      "text/plain": [
       "'2013-3-8'"
      ]
     },
     "execution_count": 12,
     "metadata": {},
     "output_type": "execute_result"
    }
   ],
   "source": [
    "z = flights_df[(flights_df['year']==2013)].groupby(flights_df['Date']).mean()\n",
    "\n",
    "z.dep_delay.idxmax()"
   ]
  },
  {
   "cell_type": "markdown",
   "metadata": {},
   "source": [
    "**March 8th, 2013** was also the worst day to fly out of NYC."
   ]
  },
  {
   "cell_type": "markdown",
   "metadata": {},
   "source": [
    "(c) Are there any seasonal patterns in departure delays for flights from NYC?"
   ]
  },
  {
   "cell_type": "code",
   "execution_count": 13,
   "metadata": {},
   "outputs": [
    {
     "data": {
      "text/plain": [
       "<matplotlib.axes._subplots.AxesSubplot at 0x2578f531fd0>"
      ]
     },
     "execution_count": 13,
     "metadata": {},
     "output_type": "execute_result"
    },
    {
     "data": {
      "image/png": "[encoded data removed]",
      "text/plain": [
       "<matplotlib.figure.Figure at 0x2578f829828>"
      ]
     },
     "metadata": {},
     "output_type": "display_data"
    },
    {
     "data": {
      "image/png": "[encoded data removed]",
      "text/plain": [
       "<matplotlib.figure.Figure at 0x257968c38d0>"
      ]
     },
     "metadata": {},
     "output_type": "display_data"
    }
   ],
   "source": [
    "# Using groupby\n",
    "\n",
    "# First let's try plotting daily averages\n",
    "z = flights_df[['dep_delay']].groupby(flights_df['Date']).mean()\n",
    "z.plot()\n",
    "\n",
    "# Using every date looks a little messy, let's see if we can glean any patterns from looking at monthly averages\n",
    "y= flights_df[['dep_delay']].groupby(flights_df['month']).mean()\n",
    "y.plot()"
   ]
  },
  {
   "cell_type": "markdown",
   "metadata": {},
   "source": [
    "Departure delays seem to be greatest during the summer months, with a lull in autumn before increasing again near the winter holidays."
   ]
  },
  {
   "cell_type": "markdown",
   "metadata": {},
   "source": [
    "(d) On average, how do departure delays vary over the course of a day?"
   ]
  },
  {
   "cell_type": "code",
   "execution_count": 14,
   "metadata": {},
   "outputs": [
    {
     "name": "stdout",
     "output_type": "stream",
     "text": [
      "dep_time\n",
      "(0, 100]        129.506726\n",
      "(100, 200]      207.254630\n",
      "(200, 300]      242.900000\n",
      "(300, 400]      304.727273\n",
      "(400, 500]       -5.500000\n",
      "(500, 600]       -4.131348\n",
      "(600, 700]       -1.485186\n",
      "(700, 800]        0.213966\n",
      "(800, 900]        1.141606\n",
      "(900, 1000]       4.343959\n",
      "(1000, 1100]      5.601674\n",
      "(1100, 1200]      5.593631\n",
      "(1200, 1300]      7.615543\n",
      "(1300, 1400]      9.587125\n",
      "(1400, 1500]      7.951294\n",
      "(1500, 1600]     10.793590\n",
      "(1600, 1700]     13.597194\n",
      "(1700, 1800]     16.930243\n",
      "(1800, 1900]     18.591549\n",
      "(1900, 2000]     21.741681\n",
      "(2000, 2100]     28.256353\n",
      "(2100, 2200]     42.633268\n",
      "(2200, 2300]     68.778942\n",
      "Name: dep_delay, dtype: float64\n"
     ]
    },
    {
     "data": {
      "text/plain": [
       "<matplotlib.axes._subplots.AxesSubplot at 0x2578f586390>"
      ]
     },
     "execution_count": 14,
     "metadata": {},
     "output_type": "execute_result"
    },
    {
     "data": {
      "image/png": "[encoded data removed]",
      "text/plain": [
       "<matplotlib.figure.Figure at 0x2578f55ecc0>"
      ]
     },
     "metadata": {},
     "output_type": "display_data"
    }
   ],
   "source": [
    "# First, we groupby hourly intervals of departure times\n",
    "z = flights_df['dep_delay'].groupby(pd.cut(flights_df['dep_time'], np.arange(0,2400,100))).mean()\n",
    "\n",
    "# Then we plot\n",
    "print(z)\n",
    "z.plot()"
   ]
  },
  {
   "cell_type": "markdown",
   "metadata": {},
   "source": [
    "Looks like departure delays are highest in the early morning hours (12 AM to 4 AM) but generally low during the rest of the day."
   ]
  },
  {
   "cell_type": "markdown",
   "metadata": {},
   "source": [
    "## Question 3\n",
    "    Which flight departing NYC in 2013 flew the fastest?"
   ]
  },
  {
   "cell_type": "code",
   "execution_count": 16,
   "metadata": {},
   "outputs": [
    {
     "data": {
      "text/plain": [
       "24098     1860\n",
       "248839    1491\n",
       "305879    3608\n",
       "25455     3667\n",
       "212015    1289\n",
       "80009     1909\n",
       "91118     1775\n",
       "230885    2175\n",
       "276375    1279\n",
       "175065    3638\n",
       "219264    1289\n",
       "61395     1909\n",
       "106501    2037\n",
       "237716    2136\n",
       "23779     3638\n",
       "75445     1909\n",
       "104049    2037\n",
       "79592     1775\n",
       "244468    1703\n",
       "298041    1909\n",
       "121470    1860\n",
       "267435    1629\n",
       "230906    2177\n",
       "185187    3608\n",
       "195621    3608\n",
       "134244    3609\n",
       "55549     1775\n",
       "45168     1714\n",
       "56461     1775\n",
       "286310    1714\n",
       "          ... \n",
       "332193    3411\n",
       "332194    3748\n",
       "332671      15\n",
       "333188    5109\n",
       "333189    2183\n",
       "333190    4720\n",
       "333666     331\n",
       "334177    5306\n",
       "334183     301\n",
       "334184    2164\n",
       "334185    3760\n",
       "334186     269\n",
       "334197    5068\n",
       "334354    4510\n",
       "334412    4412\n",
       "334495     300\n",
       "334866    5563\n",
       "334867       1\n",
       "334868     581\n",
       "335534     327\n",
       "335780    4536\n",
       "335781    3134\n",
       "335782     331\n",
       "335805     464\n",
       "336770    5274\n",
       "336771    3393\n",
       "336772    3525\n",
       "336773    3461\n",
       "336774    3572\n",
       "336775    3531\n",
       "Name: flight, Length: 336776, dtype: int64"
      ]
     },
     "execution_count": 16,
     "metadata": {},
     "output_type": "execute_result"
    }
   ],
   "source": [
    "# Create speed variable\n",
    "flights_df = flights_df.assign(speed = flights_df['air_time'] / flights_df['distance'])\n",
    "\n",
    "# Find the flight number of the fastest flight\n",
    "flights_df.sort_values(by='speed', ascending=False)['flight']"
   ]
  },
  {
   "cell_type": "markdown",
   "metadata": {},
   "source": [
    "The fastest flight was number **1860**"
   ]
  },
  {
   "cell_type": "markdown",
   "metadata": {},
   "source": [
    "## Question 4\n",
    "Which flights (i.e. carrier + flight + dest) happen every day? Where do they fly to?"
   ]
  },
  {
   "cell_type": "code",
   "execution_count": 17,
   "metadata": {},
   "outputs": [
    {
     "data": {
      "text/plain": [
       "carrier  flight  dest\n",
       "AA       59      SFO     365\n",
       "         119     LAX     365\n",
       "         181     LAX     365\n",
       "         1357    SJU     365\n",
       "         1611    MIA     365\n",
       "B6       219     CLT     365\n",
       "         359     BUR     365\n",
       "         371     FLL     365\n",
       "         431     SRQ     365\n",
       "         703     SJU     365\n",
       "         1783    MCO     365\n",
       "DL       2159    MCO     365\n",
       "         2391    TPA     365\n",
       "EV       5712    IAD     365\n",
       "UA       15      HNL     365\n",
       "VX       251     LAS     365\n",
       "         407     LAX     365\n",
       "         413     LAX     365\n",
       "dtype: int64"
      ]
     },
     "execution_count": 17,
     "metadata": {},
     "output_type": "execute_result"
    }
   ],
   "source": [
    "# count unique carrier+flight+dest combinations - which ones = 365?\n",
    "\n",
    "z = flights_df.groupby(['carrier','flight','dest']).size()\n",
    "z[z==365]\n"
   ]
  },
  {
   "cell_type": "markdown",
   "metadata": {},
   "source": [
    "The answer is quite long, but there are six different carriers that have a total of 18 flights to 13 different cities, every day of the year."
   ]
  },
  {
   "cell_type": "markdown",
   "metadata": {},
   "source": [
    "## Question 5\n",
    "Develop one research question you can address using the nycflights2013 dataset. Provide two visualizations to support your exploration of this question. Discuss what you find.\n"
   ]
  },
  {
   "cell_type": "markdown",
   "metadata": {},
   "source": [
    "One interesting question would be to ask what airport might be the best to fly into or out of? To do these we can look at average departure and arrival times for each airport in 2013. Then count what percent of total flights was delayed."
   ]
  },
  {
   "cell_type": "code",
   "execution_count": 140,
   "metadata": {},
   "outputs": [
    {
     "data": {
      "text/plain": [
       "<matplotlib.axes._subplots.AxesSubplot at 0x2579d2140f0>"
      ]
     },
     "execution_count": 140,
     "metadata": {},
     "output_type": "execute_result"
    },
    {
     "data": {
      "image/png": "[encoded data removed]",
      "text/plain": [
       "<matplotlib.figure.Figure at 0x2579d117c50>"
      ]
     },
     "metadata": {},
     "output_type": "display_data"
    }
   ],
   "source": [
    "# What percent of flights was delayed in 2013?\n",
    "\n",
    "# create departure delays summary df\n",
    "depdelays = flights_df[(flights_df['dep_delay'] > 0)].groupby(['origin'])['dep_delay'].count().reset_index() # number of delays\n",
    "depdelays\n",
    "\n",
    "# create arrival delays summary df\n",
    "arrdelays = flights_df[(flights_df['arr_delay'] > 0)].groupby(['origin'])['arr_delay'].count().reset_index() # number of delays\n",
    "arrdelays\n",
    "\n",
    "# create total flights summary df\n",
    "flights = flights_df.groupby(['origin'])[('flight')].count().reset_index() # total flights\n",
    "dflist = [depdelays, arrdelays, flights]\n",
    "\n",
    "# merge all the dataframes\n",
    "delays = reduce(lambda x, y: pd.merge(x, y, on = 'origin'), dflist)\n",
    "\n",
    "# create new variables, percent arrivals delayed and percent departures delayed\n",
    "delays = delays.assign(dep_delayed = delays.dep_delay / delays.flight,\n",
    "                      arr_delayed = delays.arr_delay / delays.flight) \n",
    "\n",
    "# plot!\n",
    "plt.subplot(1,2,1)\n",
    "delays['dep_delayed'].plot.bar(x=\"origin\")\n",
    "plt.subplot(1,2,2)\n",
    "delays['arr_delayed'].plot.bar(x=\"origin\")"
   ]
  },
  {
   "cell_type": "markdown",
   "metadata": {},
   "source": [
    "I couldn't quite figure out how to add X axis labels, but EWR has the highest percent of arrival and departure delays in 2013 (blue), followed by JFK and then LGA. So LGA would be the best airport to fly in and out of."
   ]
  },
  {
   "cell_type": "markdown",
   "metadata": {},
   "source": [
    "## Question 6\n",
    "What weather conditions are associated with flight delays leaving NYC? Use graphics to explore."
   ]
  },
  {
   "cell_type": "code",
   "execution_count": 19,
   "metadata": {},
   "outputs": [
    {
     "name": "stdout",
     "output_type": "stream",
     "text": [
      "Index(['Unnamed: 0', 'origin', 'year', 'month', 'day', 'hour', 'temp', 'dewp',\n",
      "       'humid', 'wind_dir', 'wind_speed', 'wind_gust', 'precip', 'pressure',\n",
      "       'visib'],\n",
      "      dtype='object')\n",
      "Unnamed: 0      int64\n",
      "origin         object\n",
      "year            int64\n",
      "month         float64\n",
      "day           float64\n",
      "hour          float64\n",
      "temp          float64\n",
      "dewp          float64\n",
      "humid         float64\n",
      "wind_dir      float64\n",
      "wind_speed    float64\n",
      "wind_gust     float64\n",
      "precip        float64\n",
      "pressure      float64\n",
      "visib         float64\n",
      "dtype: object\n",
      "(8719, 15)\n"
     ]
    },
    {
     "data": {
      "text/html": [
       "<div>\n",
       "<style scoped>\n",
       "    .dataframe tbody tr th:only-of-type {\n",
       "        vertical-align: middle;\n",
       "    }\n",
       "\n",
       "    .dataframe tbody tr th {\n",
       "        vertical-align: top;\n",
       "    }\n",
       "\n",
       "    .dataframe thead th {\n",
       "        text-align: right;\n",
       "    }\n",
       "</style>\n",
       "<table border=\"1\" class=\"dataframe\">\n",
       "  <thead>\n",
       "    <tr style=\"text-align: right;\">\n",
       "      <th></th>\n",
       "      <th>Unnamed: 0</th>\n",
       "      <th>origin</th>\n",
       "      <th>year</th>\n",
       "      <th>month</th>\n",
       "      <th>day</th>\n",
       "      <th>hour</th>\n",
       "      <th>temp</th>\n",
       "      <th>dewp</th>\n",
       "      <th>humid</th>\n",
       "      <th>wind_dir</th>\n",
       "      <th>wind_speed</th>\n",
       "      <th>wind_gust</th>\n",
       "      <th>precip</th>\n",
       "      <th>pressure</th>\n",
       "      <th>visib</th>\n",
       "    </tr>\n",
       "  </thead>\n",
       "  <tbody>\n",
       "    <tr>\n",
       "      <th>0</th>\n",
       "      <td>1</td>\n",
       "      <td>EWR</td>\n",
       "      <td>2013</td>\n",
       "      <td>1.0</td>\n",
       "      <td>1.0</td>\n",
       "      <td>0.0</td>\n",
       "      <td>37.04</td>\n",
       "      <td>21.92</td>\n",
       "      <td>53.97</td>\n",
       "      <td>230.0</td>\n",
       "      <td>10.35702</td>\n",
       "      <td>11.918651</td>\n",
       "      <td>0.0</td>\n",
       "      <td>1013.9</td>\n",
       "      <td>10.0</td>\n",
       "    </tr>\n",
       "    <tr>\n",
       "      <th>1</th>\n",
       "      <td>2</td>\n",
       "      <td>EWR</td>\n",
       "      <td>2013</td>\n",
       "      <td>1.0</td>\n",
       "      <td>1.0</td>\n",
       "      <td>1.0</td>\n",
       "      <td>37.04</td>\n",
       "      <td>21.92</td>\n",
       "      <td>53.97</td>\n",
       "      <td>230.0</td>\n",
       "      <td>13.80936</td>\n",
       "      <td>15.891535</td>\n",
       "      <td>0.0</td>\n",
       "      <td>1013.0</td>\n",
       "      <td>10.0</td>\n",
       "    </tr>\n",
       "    <tr>\n",
       "      <th>2</th>\n",
       "      <td>3</td>\n",
       "      <td>EWR</td>\n",
       "      <td>2013</td>\n",
       "      <td>1.0</td>\n",
       "      <td>1.0</td>\n",
       "      <td>2.0</td>\n",
       "      <td>37.94</td>\n",
       "      <td>21.92</td>\n",
       "      <td>52.09</td>\n",
       "      <td>230.0</td>\n",
       "      <td>12.65858</td>\n",
       "      <td>14.567241</td>\n",
       "      <td>0.0</td>\n",
       "      <td>1012.6</td>\n",
       "      <td>10.0</td>\n",
       "    </tr>\n",
       "    <tr>\n",
       "      <th>3</th>\n",
       "      <td>4</td>\n",
       "      <td>EWR</td>\n",
       "      <td>2013</td>\n",
       "      <td>1.0</td>\n",
       "      <td>1.0</td>\n",
       "      <td>3.0</td>\n",
       "      <td>37.94</td>\n",
       "      <td>23.00</td>\n",
       "      <td>54.51</td>\n",
       "      <td>230.0</td>\n",
       "      <td>13.80936</td>\n",
       "      <td>15.891535</td>\n",
       "      <td>0.0</td>\n",
       "      <td>1012.7</td>\n",
       "      <td>10.0</td>\n",
       "    </tr>\n",
       "    <tr>\n",
       "      <th>4</th>\n",
       "      <td>5</td>\n",
       "      <td>EWR</td>\n",
       "      <td>2013</td>\n",
       "      <td>1.0</td>\n",
       "      <td>1.0</td>\n",
       "      <td>4.0</td>\n",
       "      <td>37.94</td>\n",
       "      <td>24.08</td>\n",
       "      <td>57.04</td>\n",
       "      <td>240.0</td>\n",
       "      <td>14.96014</td>\n",
       "      <td>17.215830</td>\n",
       "      <td>0.0</td>\n",
       "      <td>1012.8</td>\n",
       "      <td>10.0</td>\n",
       "    </tr>\n",
       "    <tr>\n",
       "      <th>5</th>\n",
       "      <td>6</td>\n",
       "      <td>EWR</td>\n",
       "      <td>2013</td>\n",
       "      <td>1.0</td>\n",
       "      <td>1.0</td>\n",
       "      <td>6.0</td>\n",
       "      <td>39.02</td>\n",
       "      <td>26.06</td>\n",
       "      <td>59.37</td>\n",
       "      <td>270.0</td>\n",
       "      <td>10.35702</td>\n",
       "      <td>11.918651</td>\n",
       "      <td>0.0</td>\n",
       "      <td>1012.0</td>\n",
       "      <td>10.0</td>\n",
       "    </tr>\n",
       "    <tr>\n",
       "      <th>6</th>\n",
       "      <td>7</td>\n",
       "      <td>EWR</td>\n",
       "      <td>2013</td>\n",
       "      <td>1.0</td>\n",
       "      <td>1.0</td>\n",
       "      <td>7.0</td>\n",
       "      <td>39.02</td>\n",
       "      <td>26.96</td>\n",
       "      <td>61.63</td>\n",
       "      <td>250.0</td>\n",
       "      <td>8.05546</td>\n",
       "      <td>9.270062</td>\n",
       "      <td>0.0</td>\n",
       "      <td>1012.3</td>\n",
       "      <td>10.0</td>\n",
       "    </tr>\n",
       "    <tr>\n",
       "      <th>7</th>\n",
       "      <td>8</td>\n",
       "      <td>EWR</td>\n",
       "      <td>2013</td>\n",
       "      <td>1.0</td>\n",
       "      <td>1.0</td>\n",
       "      <td>8.0</td>\n",
       "      <td>39.02</td>\n",
       "      <td>28.04</td>\n",
       "      <td>64.43</td>\n",
       "      <td>240.0</td>\n",
       "      <td>11.50780</td>\n",
       "      <td>13.242946</td>\n",
       "      <td>0.0</td>\n",
       "      <td>1012.5</td>\n",
       "      <td>10.0</td>\n",
       "    </tr>\n",
       "    <tr>\n",
       "      <th>8</th>\n",
       "      <td>9</td>\n",
       "      <td>EWR</td>\n",
       "      <td>2013</td>\n",
       "      <td>1.0</td>\n",
       "      <td>1.0</td>\n",
       "      <td>9.0</td>\n",
       "      <td>39.92</td>\n",
       "      <td>28.04</td>\n",
       "      <td>62.21</td>\n",
       "      <td>250.0</td>\n",
       "      <td>12.65858</td>\n",
       "      <td>14.567241</td>\n",
       "      <td>0.0</td>\n",
       "      <td>1012.2</td>\n",
       "      <td>10.0</td>\n",
       "    </tr>\n",
       "    <tr>\n",
       "      <th>9</th>\n",
       "      <td>10</td>\n",
       "      <td>EWR</td>\n",
       "      <td>2013</td>\n",
       "      <td>1.0</td>\n",
       "      <td>1.0</td>\n",
       "      <td>10.0</td>\n",
       "      <td>39.02</td>\n",
       "      <td>28.04</td>\n",
       "      <td>64.43</td>\n",
       "      <td>260.0</td>\n",
       "      <td>12.65858</td>\n",
       "      <td>14.567241</td>\n",
       "      <td>0.0</td>\n",
       "      <td>1011.9</td>\n",
       "      <td>10.0</td>\n",
       "    </tr>\n",
       "  </tbody>\n",
       "</table>\n",
       "</div>"
      ],
      "text/plain": [
       "   Unnamed: 0 origin  year  month  day  hour   temp   dewp  humid  wind_dir  \\\n",
       "0           1    EWR  2013    1.0  1.0   0.0  37.04  21.92  53.97     230.0   \n",
       "1           2    EWR  2013    1.0  1.0   1.0  37.04  21.92  53.97     230.0   \n",
       "2           3    EWR  2013    1.0  1.0   2.0  37.94  21.92  52.09     230.0   \n",
       "3           4    EWR  2013    1.0  1.0   3.0  37.94  23.00  54.51     230.0   \n",
       "4           5    EWR  2013    1.0  1.0   4.0  37.94  24.08  57.04     240.0   \n",
       "5           6    EWR  2013    1.0  1.0   6.0  39.02  26.06  59.37     270.0   \n",
       "6           7    EWR  2013    1.0  1.0   7.0  39.02  26.96  61.63     250.0   \n",
       "7           8    EWR  2013    1.0  1.0   8.0  39.02  28.04  64.43     240.0   \n",
       "8           9    EWR  2013    1.0  1.0   9.0  39.92  28.04  62.21     250.0   \n",
       "9          10    EWR  2013    1.0  1.0  10.0  39.02  28.04  64.43     260.0   \n",
       "\n",
       "   wind_speed  wind_gust  precip  pressure  visib  \n",
       "0    10.35702  11.918651     0.0    1013.9   10.0  \n",
       "1    13.80936  15.891535     0.0    1013.0   10.0  \n",
       "2    12.65858  14.567241     0.0    1012.6   10.0  \n",
       "3    13.80936  15.891535     0.0    1012.7   10.0  \n",
       "4    14.96014  17.215830     0.0    1012.8   10.0  \n",
       "5    10.35702  11.918651     0.0    1012.0   10.0  \n",
       "6     8.05546   9.270062     0.0    1012.3   10.0  \n",
       "7    11.50780  13.242946     0.0    1012.5   10.0  \n",
       "8    12.65858  14.567241     0.0    1012.2   10.0  \n",
       "9    12.65858  14.567241     0.0    1011.9   10.0  "
      ]
     },
     "execution_count": 19,
     "metadata": {},
     "output_type": "execute_result"
    }
   ],
   "source": [
    "# load weather data\n",
    "weather = pd.read_csv('weather.csv')\n",
    "\n",
    "print(weather.columns)\n",
    "print(weather.dtypes)\n",
    "print(weather.shape)\n",
    "weather.head(10)"
   ]
  },
  {
   "cell_type": "code",
   "execution_count": 78,
   "metadata": {
    "scrolled": true
   },
   "outputs": [
    {
     "name": "stdout",
     "output_type": "stream",
     "text": [
      "(8718, 16)\n"
     ]
    },
    {
     "data": {
      "text/plain": [
       "Text(0.5,0,'Visibility')"
      ]
     },
     "execution_count": 78,
     "metadata": {},
     "output_type": "execute_result"
    },
    {
     "data": {
      "image/png": "[encoded data removed]",
      "text/plain": [
       "<matplotlib.figure.Figure at 0x257927c6198>"
      ]
     },
     "metadata": {},
     "output_type": "display_data"
    }
   ],
   "source": [
    "# okay, we're going to look at percent of flights delayed instead of average delay time\n",
    "\n",
    "# first clean the weather data\n",
    "# remove month or day that is NaN\n",
    "weather.replace([\"NaN\", 'NaT'], np.nan, inplace = True) # so pandas recognizes the \"NA\" as NaN\n",
    "weather = weather.dropna(subset=['month','day']) # drop it\n",
    "print(weather.shape) # check that the one offending row is gone\n",
    "\n",
    "# we need year, month, and day to all be integer so that the Date column matches that in flights_df\n",
    "weather[['month','day']] = weather[['month','day']].astype('int64')\n",
    "\n",
    "# create date variable\n",
    "weather = weather.assign(Date=weather.year.map(str) +\n",
    "                        \"-\" + weather.month.map(str) +\n",
    "                        \"-\" + weather.day.map(str))\n",
    "\n",
    "# Now average each weather varible by date\n",
    "weathavg = weather.groupby(['Date', 'origin']).mean().reset_index()\n",
    "\n",
    "# get percent of flights delayed from NYC for each day\n",
    "delays = flights_df[flights_df['dep_delay'] > 0].groupby(['Date','origin'])['dep_delay'].count().reset_index() # number of delays\n",
    "flights = flights_df.groupby(['Date', 'origin'])[('flight')].count().reset_index() # total flights\n",
    "\n",
    "delays = pd.merge(delays, flights, on=['Date','origin']) # merge flights and delays\n",
    "delays = delays.assign(per_delayed = delays.dep_delay / delays.flight) # divide to get percent of total flights delayed\n",
    "\n",
    "# join the delays to weather data by date\n",
    "weatherdelays = pd.merge(weathavg, delays, on=['Date','origin'])\n",
    "\n",
    "# let's do some simple scatterplots with percent of flights delayed\n",
    "plt.subplot(2,2,1)\n",
    "plt.scatter(weatherdelays['wind_gust'], weatherdelays['per_delayed'], s=3)\n",
    "plt.xlabel('Wind Gusts')\n",
    "plt.ylabel('Departure Delays')\n",
    "plt.subplot(2,2,2)\n",
    "plt.scatter(weatherdelays['wind_speed'], weatherdelays['per_delayed'], s=3)\n",
    "plt.xlabel('Wind Speed')\n",
    "plt.subplot(2,2,3)\n",
    "plt.scatter(weatherdelays['precip'], weatherdelays['per_delayed'], s=3)\n",
    "plt.xlabel('Precipitation')\n",
    "plt.subplot(2,2,4)\n",
    "plt.scatter(weatherdelays['visib'], weatherdelays['per_delayed'], s=3)\n",
    "plt.xlabel('Visibility')\n"
   ]
  },
  {
   "cell_type": "code",
   "execution_count": 87,
   "metadata": {},
   "outputs": [
    {
     "data": {
      "text/plain": [
       "Text(0.5,0,'Visibility')"
      ]
     },
     "execution_count": 87,
     "metadata": {},
     "output_type": "execute_result"
    },
    {
     "data": {
      "image/png": "[encoded data removed]",
      "text/plain": [
       "<matplotlib.figure.Figure at 0x257932419b0>"
      ]
     },
     "metadata": {},
     "output_type": "display_data"
    }
   ],
   "source": [
    "# Maybe max value (min for visibility) is more important than average value\n",
    "\n",
    "# get appropriate max and min values\n",
    "weathmax = weather.groupby(['Date', 'origin']).agg({'visib':'min', 'wind_gust':'max', \n",
    "                                                    'wind_speed':'max', 'precip':'max'}).reset_index()\n",
    "\n",
    "# merge new weather variables to delays\n",
    "weatherdelays2 = pd.merge(weathmax, delays, on=['Date','origin'])\n",
    "\n",
    "# need to remove some outliers\n",
    "weatherdelays2 = weatherdelays2[((weatherdelays2['wind_gust']<500) & (weatherdelays2['wind_speed']<500))]\n",
    "\n",
    "# plot!\n",
    "plt.subplot(2,2,1)\n",
    "plt.subplots_adjust(hspace=0.4)\n",
    "plt.scatter(weatherdelays2['wind_gust'], weatherdelays2['per_delayed'], s=3)\n",
    "plt.xlabel('Wind Gusts')\n",
    "plt.ylabel('Departure Delays')\n",
    "plt.subplot(2,2,2)\n",
    "plt.scatter(weatherdelays2['wind_speed'], weatherdelays2['per_delayed'], s=3)\n",
    "plt.xlabel('Wind Speed')\n",
    "plt.subplot(2,2,3)\n",
    "plt.scatter(weatherdelays2['precip'], weatherdelays2['per_delayed'], s=3)\n",
    "plt.xlabel('Precipitation')\n",
    "plt.subplot(2,2,4)\n",
    "plt.scatter(weatherdelays2['visib'], weatherdelays2['per_delayed'], s=3)\n",
    "plt.xlabel('Visibility')\n"
   ]
  },
  {
   "cell_type": "markdown",
   "metadata": {},
   "source": [
    "Not a strong pattern but it seems like more flights tend to be delayed during periods of low visibility, and flight delays tend to increase with precipitation. "
   ]
  }
 ],
 "metadata": {
  "kernelspec": {
   "display_name": "Python 3",
   "language": "python",
   "name": "python3"
  },
  "language_info": {
   "codemirror_mode": {
    "name": "ipython",
    "version": 3
   },
   "file_extension": ".py",
   "mimetype": "text/x-python",
   "name": "python",
   "nbconvert_exporter": "python",
   "pygments_lexer": "ipython3",
   "version": "3.6.4"
  }
 },
 "nbformat": 4,
 "nbformat_minor": 1
}
