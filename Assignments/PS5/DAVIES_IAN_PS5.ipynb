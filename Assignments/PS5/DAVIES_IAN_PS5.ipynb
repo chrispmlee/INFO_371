{
 "cells": [
  {
   "cell_type": "markdown",
   "metadata": {},
   "source": [
    "# Problem Set 5, due June 1 at 11:59 pm.\n",
    "\n",
    "As usual, you are highly encouraged to *start this problem set early!*  My best guess (no guarantees!) is that Part 1 will be conceptually easy but perhaps time consuming.  Parts 2 and 3 are medium difficult, but there are plenty of opportunities to get confused with python data structures, so if you're going to get stuck, get stuck (and unstuck) early! Part 4 will give you an opportunity to get some intuition with PCA.\n",
    "\n",
    "Note that the two extra credit problems have the potential to be quite challenging and time consuming. Make sure to do everything else in the problem set before you tackle the extra credit.\n",
    "\n",
    "To get started, download the files \"reviews.csv\" and \"movies.dat\" from Canvas.\n",
    "\n",
    "For this assignment, the following libraries may be useful:\n",
    "\n",
    "* [numpy](http://docs.scipy.org/doc/numpy-dev/user/index.html), for arrays\n",
    "* [scikit-learn](http://scikit-learn.org/stable/), for machine learning\n",
    "* [pandas](http://pandas.pydata.org/), for data frames\n",
    "* [matplotlib](http://matplotlib.org/), for plotting\n",
    "\n",
    "In particular, I suggest you familiarize yourself with the following aspects of these libraries, which are not required but which might make your life easier:\n",
    "\n",
    "* `DataFrame` and other basic [data structures](http://pandas.pydata.org/pandas-docs/stable/dsintro.html) in pandas\n",
    "* [`groupby`](http://pandas.pydata.org/pandas-docs/stable/groupby.html), `unique`,  and other simple aggregation functions\n",
    "* [`CountVectorizer`](http://scikit-learn.org/stable/modules/generated/sklearn.feature_extraction.text.CountVectorizer.html) for working with text in sklearn.\n",
    "* [`MultinomialNB`](http://scikit-learn.org/stable/modules/generated/sklearn.naive_bayes.MultinomialNB.html) for Naive Bayes\n",
    "* Simple tools for [Cross-Validation](http://scikit-learn.org/stable/modules/cross_validation.html) in sklearn\n",
    "\n",
    "Make sure they load properly with the following code block:"
   ]
  },
  {
   "cell_type": "code",
   "execution_count": 25,
   "metadata": {},
   "outputs": [],
   "source": [
    "%matplotlib inline\n",
    "import pandas as pd\n",
    "import numpy as np\n",
    "import matplotlib.pyplot as plt\n",
    "\n",
    "#hint: Consult the scikit-learn documentation to\n",
    "#      learn about what these classes do do\n",
    "from  sklearn.model_selection import cross_val_score\n",
    "from sklearn.model_selection import train_test_split\n",
    "from sklearn.naive_bayes import MultinomialNB\n",
    "from sklearn.feature_extraction.text import CountVectorizer\n",
    "import statsmodels.formula.api as smf\n",
    "from sklearn.metrics import mean_squared_error\n",
    "from sklearn.preprocessing import StandardScaler\n",
    "from sklearn.decomposition import PCA\n",
    "from sklearn.metrics import accuracy_score"
   ]
  },
  {
   "cell_type": "markdown",
   "metadata": {},
   "source": [
    "## Introduction to the assignment\n",
    "\n",
    "In this assignment, you'll be analyzing movie reviews in an attempt to determine whether movies are good or bad.  I've downloaded a large number of movie reviews from the [Rotten Tomatoes](http://www.rottentomatoes.com) website, which are available in the file \"reviews.csv\" on Canvas.  I've also put a file \"movies.dat\" on Canvas that contains metadata for ~65,000 different movies\n",
    "\n",
    "If you've never seen Rotten Tomatoes before, go spend a few minutes familiarizing yourself with the website.  It's a meta-review website that aggregates movie reviews from a large number of critics.  Here's what the page for this year's likely [Oscar winner](http://www.rottentomatoes.com/m/the_revenant_2015/) looks like.  Note in particular the section on \"Critic Reviews\" at the bottom -- that's the content that has been scraped and put in the reviews.csv file.  Also note that each movie is given a quantitative score on the Tomatometer which is used to classify the movie as either Fresh (good) or Rotten (bad).\n",
    "\n",
    "Your mission is to develop a classifier to determine whether a movie is Fresh or Rotten based on the contents of the reviews given to the movie.  As usual, we'll start out with some exploratory data analysis."
   ]
  },
  {
   "cell_type": "markdown",
   "metadata": {},
   "source": [
    "---\n",
    "\n",
    "## Part 1: Descriptive analysis\n",
    "\n",
    "Before beginning the \"real\" work, dig into the data a bit do see what you're dealing with.  Begin by loading the datasets and dropping rows that have missing data:"
   ]
  },
  {
   "cell_type": "code",
   "execution_count": 2,
   "metadata": {},
   "outputs": [],
   "source": [
    "reviews = pd.read_csv('reviews.csv')\n",
    "movies = pd.read_csv(\"movies.dat\", delimiter='\\t')\n",
    "\n",
    "reviews = reviews[~reviews.quote.isnull()]\n",
    "reviews = reviews[reviews.fresh != 'none']\n",
    "reviews = reviews[reviews.quote.str.len() > 0]"
   ]
  },
  {
   "cell_type": "markdown",
   "metadata": {},
   "source": [
    "### 1.1: Basic features of the dataset\n",
    "\n",
    "Answer the following questions by having your python code directly print the answers:\n",
    "\n",
    "* How many unique reviews (quotes) are in the `reviews` dataset?\n",
    "* How many unique reviewers (critics) are in the `reviews` dataset?\n",
    "* How many unique movies are in the `reviews` dataset?\n",
    "* How many unique movies are in the *`movies`* dataset?\n",
    "* How many different publications have reviews in the `reviews` dataset?\n"
   ]
  },
  {
   "cell_type": "code",
   "execution_count": 7,
   "metadata": {},
   "outputs": [
    {
     "name": "stdout",
     "output_type": "stream",
     "text": [
      "Number of reviews: 13419\n",
      "Unique reviewers: 541\n",
      "Unique movies in `reviews` dataset: 1720\n",
      "Unique movies in `movies` dataset: 9423\n",
      "Unique publications in `reviews` dataset: 64\n"
     ]
    }
   ],
   "source": [
    "print(\"Number of reviews: %i\" % len(reviews))\n",
    "print(\"Unique reviewers: %i\" % len(reviews.critic.unique()))\n",
    "print(\"Unique movies in `reviews` dataset: %i\" % len(reviews.imdb.unique()))\n",
    "print(\"Unique movies in `movies` dataset: %i\" % len(movies.imdbID.unique()))\n",
    "print(\"Unique publications in `reviews` dataset: %i\" % len(reviews.publication.unique()))"
   ]
  },
  {
   "cell_type": "markdown",
   "metadata": {},
   "source": [
    "### 1.2 Number of reviews per reviewer\n",
    "\n",
    "Using the `reviews` dataset, create a histogram showing the distribution of the number of reviews per reviewer.  Create the bin width (x-axis) to be 1 unit wide, and the range of the axis to be from 0 to 30.  Scale the y-axis to show the logarithm of (count of) the number of reviews.  Label your axes and make your histogram look professional."
   ]
  },
  {
   "cell_type": "code",
   "execution_count": 8,
   "metadata": {},
   "outputs": [
    {
     "data": {
      "text/plain": [
       "Text(0,0.5,'Frequency')"
      ]
     },
     "execution_count": 8,
     "metadata": {},
     "output_type": "execute_result"
    },
    {
     "data": {
      "image/png": "[encoded data removed]",
      "text/plain": [
       "<matplotlib.figure.Figure at 0x16713bc4eb8>"
      ]
     },
     "metadata": {},
     "output_type": "display_data"
    }
   ],
   "source": [
    "ax = plt.subplot(111)\n",
    "plt.hist(reviews.groupby(['critic']).size(), bins = np.arange(0, 30, 1), color=\"green\")\n",
    "plt.yscale('log')\n",
    "ax.spines['right'].set_visible(False)\n",
    "ax.spines['top'].set_visible(False)\n",
    "plt.xlabel('Reviews per critic')\n",
    "plt.ylabel('Frequency')"
   ]
  },
  {
   "cell_type": "markdown",
   "metadata": {},
   "source": [
    "### 1.3 Zoom in on a few reviewers\n",
    "Find the 30 critics with the most reviews, and list their names in a table along with (a) the name of the publication they work for, (b) the date of their first review, and (c) the date of their last review\n",
    "\n",
    "*hint: use the groupby function to do this quickly*"
   ]
  },
  {
   "cell_type": "code",
   "execution_count": 16,
   "metadata": {},
   "outputs": [
    {
     "data": {
      "text/html": [
       "<div>\n",
       "<style scoped>\n",
       "    .dataframe tbody tr th:only-of-type {\n",
       "        vertical-align: middle;\n",
       "    }\n",
       "\n",
       "    .dataframe tbody tr th {\n",
       "        vertical-align: top;\n",
       "    }\n",
       "\n",
       "    .dataframe thead tr th {\n",
       "        text-align: left;\n",
       "    }\n",
       "\n",
       "    .dataframe thead tr:last-of-type th {\n",
       "        text-align: right;\n",
       "    }\n",
       "</style>\n",
       "<table border=\"1\" class=\"dataframe\">\n",
       "  <thead>\n",
       "    <tr>\n",
       "      <th></th>\n",
       "      <th></th>\n",
       "      <th colspan=\"2\" halign=\"left\">review_date</th>\n",
       "      <th>critic</th>\n",
       "    </tr>\n",
       "    <tr>\n",
       "      <th></th>\n",
       "      <th></th>\n",
       "      <th>max</th>\n",
       "      <th>min</th>\n",
       "      <th>len</th>\n",
       "    </tr>\n",
       "    <tr>\n",
       "      <th>critic</th>\n",
       "      <th>publication</th>\n",
       "      <th></th>\n",
       "      <th></th>\n",
       "      <th></th>\n",
       "    </tr>\n",
       "  </thead>\n",
       "  <tbody>\n",
       "    <tr>\n",
       "      <th>Roger Ebert</th>\n",
       "      <th>Chicago Sun-Times</th>\n",
       "      <td>2013-06-11 00:00:00</td>\n",
       "      <td>2000-01-01 00:00:00</td>\n",
       "      <td>1093</td>\n",
       "    </tr>\n",
       "    <tr>\n",
       "      <th>James Berardinelli</th>\n",
       "      <th>ReelViews</th>\n",
       "      <td>2012-02-07 00:00:00</td>\n",
       "      <td>1800-01-01 00:00:00</td>\n",
       "      <td>833</td>\n",
       "    </tr>\n",
       "    <tr>\n",
       "      <th>Janet Maslin</th>\n",
       "      <th>New York Times</th>\n",
       "      <td>2010-09-07 00:00:00</td>\n",
       "      <td>2000-01-01 00:00:00</td>\n",
       "      <td>526</td>\n",
       "    </tr>\n",
       "    <tr>\n",
       "      <th>Variety Staff</th>\n",
       "      <th>Variety</th>\n",
       "      <td>2012-08-15 00:00:00</td>\n",
       "      <td>2001-02-13 00:00:00</td>\n",
       "      <td>449</td>\n",
       "    </tr>\n",
       "    <tr>\n",
       "      <th>Jonathan Rosenbaum</th>\n",
       "      <th>Chicago Reader</th>\n",
       "      <td>2013-10-22 00:00:00</td>\n",
       "      <td>1988-07-11 00:00:00</td>\n",
       "      <td>420</td>\n",
       "    </tr>\n",
       "    <tr>\n",
       "      <th>Desson Thomson</th>\n",
       "      <th>Washington Post</th>\n",
       "      <td>2012-10-08 00:00:00</td>\n",
       "      <td>2000-01-01 00:00:00</td>\n",
       "      <td>373</td>\n",
       "    </tr>\n",
       "    <tr>\n",
       "      <th>Geoff Andrew</th>\n",
       "      <th>Time Out</th>\n",
       "      <td>2012-04-05 00:00:00</td>\n",
       "      <td>2005-08-11 00:00:00</td>\n",
       "      <td>361</td>\n",
       "    </tr>\n",
       "    <tr>\n",
       "      <th>Dave Kehr</th>\n",
       "      <th>Chicago Reader</th>\n",
       "      <td>2013-11-06 00:00:00</td>\n",
       "      <td>2000-01-01 00:00:00</td>\n",
       "      <td>317</td>\n",
       "    </tr>\n",
       "    <tr>\n",
       "      <th>Kenneth Turan</th>\n",
       "      <th>Los Angeles Times</th>\n",
       "      <td>2013-10-05 00:00:00</td>\n",
       "      <td>2000-01-01 00:00:00</td>\n",
       "      <td>282</td>\n",
       "    </tr>\n",
       "    <tr>\n",
       "      <th>Mick LaSalle</th>\n",
       "      <th>San Francisco Chronicle</th>\n",
       "      <td>2009-11-25 00:00:00</td>\n",
       "      <td>2000-01-01 00:00:00</td>\n",
       "      <td>280</td>\n",
       "    </tr>\n",
       "    <tr>\n",
       "      <th>Owen Gleiberman</th>\n",
       "      <th>Entertainment Weekly</th>\n",
       "      <td>2011-09-07 00:00:00</td>\n",
       "      <td>1800-01-01 00:00:00</td>\n",
       "      <td>241</td>\n",
       "    </tr>\n",
       "    <tr>\n",
       "      <th>Rita Kempley</th>\n",
       "      <th>Washington Post</th>\n",
       "      <td>2013-11-02 00:00:00</td>\n",
       "      <td>2000-01-01 00:00:00</td>\n",
       "      <td>236</td>\n",
       "    </tr>\n",
       "    <tr>\n",
       "      <th>Todd McCarthy</th>\n",
       "      <th>Variety</th>\n",
       "      <td>2012-10-09 00:00:00</td>\n",
       "      <td>2000-01-01 00:00:00</td>\n",
       "      <td>223</td>\n",
       "    </tr>\n",
       "    <tr>\n",
       "      <th>Joe Baltake</th>\n",
       "      <th>Sacramento Bee</th>\n",
       "      <td>2004-12-22 00:00:00</td>\n",
       "      <td>2000-01-01 00:00:00</td>\n",
       "      <td>221</td>\n",
       "    </tr>\n",
       "    <tr>\n",
       "      <th>Vincent Canby</th>\n",
       "      <th>New York Times</th>\n",
       "      <td>2013-07-29 00:00:00</td>\n",
       "      <td>2000-01-01 00:00:00</td>\n",
       "      <td>207</td>\n",
       "    </tr>\n",
       "    <tr>\n",
       "      <th>Hal Hinson</th>\n",
       "      <th>Washington Post</th>\n",
       "      <td>2013-06-26 00:00:00</td>\n",
       "      <td>2000-01-01 00:00:00</td>\n",
       "      <td>174</td>\n",
       "    </tr>\n",
       "    <tr>\n",
       "      <th>Susan Stark</th>\n",
       "      <th>Detroit News</th>\n",
       "      <td>2002-10-25 00:00:00</td>\n",
       "      <td>2000-01-01 00:00:00</td>\n",
       "      <td>167</td>\n",
       "    </tr>\n",
       "    <tr>\n",
       "      <th>Stephen Holden</th>\n",
       "      <th>New York Times</th>\n",
       "      <td>2009-02-06 00:00:00</td>\n",
       "      <td>2000-01-01 00:00:00</td>\n",
       "      <td>166</td>\n",
       "    </tr>\n",
       "    <tr>\n",
       "      <th>Derek Adams</th>\n",
       "      <th>Time Out</th>\n",
       "      <td>2009-10-04 00:00:00</td>\n",
       "      <td>2006-01-26 00:00:00</td>\n",
       "      <td>154</td>\n",
       "    </tr>\n",
       "    <tr>\n",
       "      <th>Kevin Thomas</th>\n",
       "      <th>Los Angeles Times</th>\n",
       "      <td>2013-11-02 00:00:00</td>\n",
       "      <td>2000-01-01 00:00:00</td>\n",
       "      <td>145</td>\n",
       "    </tr>\n",
       "    <tr>\n",
       "      <th>Peter Stack</th>\n",
       "      <th>San Francisco Chronicle</th>\n",
       "      <td>2002-06-18 00:00:00</td>\n",
       "      <td>2000-01-01 00:00:00</td>\n",
       "      <td>138</td>\n",
       "    </tr>\n",
       "    <tr>\n",
       "      <th>Bosley Crowther</th>\n",
       "      <th>New York Times</th>\n",
       "      <td>2008-05-06 00:00:00</td>\n",
       "      <td>2000-01-01 00:00:00</td>\n",
       "      <td>137</td>\n",
       "    </tr>\n",
       "    <tr>\n",
       "      <th>Rick Groen</th>\n",
       "      <th>Globe and Mail</th>\n",
       "      <td>2009-08-14 00:00:00</td>\n",
       "      <td>2002-03-19 00:00:00</td>\n",
       "      <td>129</td>\n",
       "    </tr>\n",
       "    <tr>\n",
       "      <th>Edward Guthmann</th>\n",
       "      <th>San Francisco Chronicle</th>\n",
       "      <td>2003-04-04 00:00:00</td>\n",
       "      <td>2000-01-01 00:00:00</td>\n",
       "      <td>121</td>\n",
       "    </tr>\n",
       "    <tr>\n",
       "      <th>Lisa Schwarzbaum</th>\n",
       "      <th>Entertainment Weekly</th>\n",
       "      <td>2012-08-15 00:00:00</td>\n",
       "      <td>1979-01-01 00:00:00</td>\n",
       "      <td>117</td>\n",
       "    </tr>\n",
       "    <tr>\n",
       "      <th>Liam Lacey</th>\n",
       "      <th>Globe and Mail</th>\n",
       "      <td>2012-04-04 00:00:00</td>\n",
       "      <td>2001-08-24 00:00:00</td>\n",
       "      <td>111</td>\n",
       "    </tr>\n",
       "    <tr>\n",
       "      <th>Emanuel Levy</th>\n",
       "      <th>Variety</th>\n",
       "      <td>2010-08-06 00:00:00</td>\n",
       "      <td>2000-01-01 00:00:00</td>\n",
       "      <td>110</td>\n",
       "    </tr>\n",
       "    <tr>\n",
       "      <th>Richard Schickel</th>\n",
       "      <th>TIME Magazine</th>\n",
       "      <td>2013-08-05 00:00:00</td>\n",
       "      <td>2007-06-27 00:00:00</td>\n",
       "      <td>105</td>\n",
       "    </tr>\n",
       "    <tr>\n",
       "      <th>Richard Corliss</th>\n",
       "      <th>TIME Magazine</th>\n",
       "      <td>2013-11-06 00:00:00</td>\n",
       "      <td>2003-12-16 00:00:00</td>\n",
       "      <td>104</td>\n",
       "    </tr>\n",
       "    <tr>\n",
       "      <th>Jay Boyar</th>\n",
       "      <th>Orlando Sentinel</th>\n",
       "      <td>2013-11-20 00:00:00</td>\n",
       "      <td>2002-01-03 00:00:00</td>\n",
       "      <td>95</td>\n",
       "    </tr>\n",
       "  </tbody>\n",
       "</table>\n",
       "</div>"
      ],
      "text/plain": [
       "                                                    review_date  \\\n",
       "                                                            max   \n",
       "critic             publication                                    \n",
       "Roger Ebert        Chicago Sun-Times        2013-06-11 00:00:00   \n",
       "James Berardinelli ReelViews                2012-02-07 00:00:00   \n",
       "Janet Maslin       New York Times           2010-09-07 00:00:00   \n",
       "Variety Staff      Variety                  2012-08-15 00:00:00   \n",
       "Jonathan Rosenbaum Chicago Reader           2013-10-22 00:00:00   \n",
       "Desson Thomson     Washington Post          2012-10-08 00:00:00   \n",
       "Geoff Andrew       Time Out                 2012-04-05 00:00:00   \n",
       "Dave Kehr          Chicago Reader           2013-11-06 00:00:00   \n",
       "Kenneth Turan      Los Angeles Times        2013-10-05 00:00:00   \n",
       "Mick LaSalle       San Francisco Chronicle  2009-11-25 00:00:00   \n",
       "Owen Gleiberman    Entertainment Weekly     2011-09-07 00:00:00   \n",
       "Rita Kempley       Washington Post          2013-11-02 00:00:00   \n",
       "Todd McCarthy      Variety                  2012-10-09 00:00:00   \n",
       "Joe Baltake        Sacramento Bee           2004-12-22 00:00:00   \n",
       "Vincent Canby      New York Times           2013-07-29 00:00:00   \n",
       "Hal Hinson         Washington Post          2013-06-26 00:00:00   \n",
       "Susan Stark        Detroit News             2002-10-25 00:00:00   \n",
       "Stephen Holden     New York Times           2009-02-06 00:00:00   \n",
       "Derek Adams        Time Out                 2009-10-04 00:00:00   \n",
       "Kevin Thomas       Los Angeles Times        2013-11-02 00:00:00   \n",
       "Peter Stack        San Francisco Chronicle  2002-06-18 00:00:00   \n",
       "Bosley Crowther    New York Times           2008-05-06 00:00:00   \n",
       "Rick Groen         Globe and Mail           2009-08-14 00:00:00   \n",
       "Edward Guthmann    San Francisco Chronicle  2003-04-04 00:00:00   \n",
       "Lisa Schwarzbaum   Entertainment Weekly     2012-08-15 00:00:00   \n",
       "Liam Lacey         Globe and Mail           2012-04-04 00:00:00   \n",
       "Emanuel Levy       Variety                  2010-08-06 00:00:00   \n",
       "Richard Schickel   TIME Magazine            2013-08-05 00:00:00   \n",
       "Richard Corliss    TIME Magazine            2013-11-06 00:00:00   \n",
       "Jay Boyar          Orlando Sentinel         2013-11-20 00:00:00   \n",
       "\n",
       "                                                                critic  \n",
       "                                                            min    len  \n",
       "critic             publication                                          \n",
       "Roger Ebert        Chicago Sun-Times        2000-01-01 00:00:00   1093  \n",
       "James Berardinelli ReelViews                1800-01-01 00:00:00    833  \n",
       "Janet Maslin       New York Times           2000-01-01 00:00:00    526  \n",
       "Variety Staff      Variety                  2001-02-13 00:00:00    449  \n",
       "Jonathan Rosenbaum Chicago Reader           1988-07-11 00:00:00    420  \n",
       "Desson Thomson     Washington Post          2000-01-01 00:00:00    373  \n",
       "Geoff Andrew       Time Out                 2005-08-11 00:00:00    361  \n",
       "Dave Kehr          Chicago Reader           2000-01-01 00:00:00    317  \n",
       "Kenneth Turan      Los Angeles Times        2000-01-01 00:00:00    282  \n",
       "Mick LaSalle       San Francisco Chronicle  2000-01-01 00:00:00    280  \n",
       "Owen Gleiberman    Entertainment Weekly     1800-01-01 00:00:00    241  \n",
       "Rita Kempley       Washington Post          2000-01-01 00:00:00    236  \n",
       "Todd McCarthy      Variety                  2000-01-01 00:00:00    223  \n",
       "Joe Baltake        Sacramento Bee           2000-01-01 00:00:00    221  \n",
       "Vincent Canby      New York Times           2000-01-01 00:00:00    207  \n",
       "Hal Hinson         Washington Post          2000-01-01 00:00:00    174  \n",
       "Susan Stark        Detroit News             2000-01-01 00:00:00    167  \n",
       "Stephen Holden     New York Times           2000-01-01 00:00:00    166  \n",
       "Derek Adams        Time Out                 2006-01-26 00:00:00    154  \n",
       "Kevin Thomas       Los Angeles Times        2000-01-01 00:00:00    145  \n",
       "Peter Stack        San Francisco Chronicle  2000-01-01 00:00:00    138  \n",
       "Bosley Crowther    New York Times           2000-01-01 00:00:00    137  \n",
       "Rick Groen         Globe and Mail           2002-03-19 00:00:00    129  \n",
       "Edward Guthmann    San Francisco Chronicle  2000-01-01 00:00:00    121  \n",
       "Lisa Schwarzbaum   Entertainment Weekly     1979-01-01 00:00:00    117  \n",
       "Liam Lacey         Globe and Mail           2001-08-24 00:00:00    111  \n",
       "Emanuel Levy       Variety                  2000-01-01 00:00:00    110  \n",
       "Richard Schickel   TIME Magazine            2007-06-27 00:00:00    105  \n",
       "Richard Corliss    TIME Magazine            2003-12-16 00:00:00    104  \n",
       "Jay Boyar          Orlando Sentinel         2002-01-03 00:00:00     95  "
      ]
     },
     "execution_count": 16,
     "metadata": {},
     "output_type": "execute_result"
    }
   ],
   "source": [
    "# groupby critic and publication, including their first and last review date\n",
    "tab = reviews.groupby(['critic', 'publication']).agg({'review_date':[max,min],\n",
    "                                               'critic':len})\n",
    "\n",
    "# sort by number of reviews, subset the 30 most prolific reviewers\n",
    "tab.sort_values(by=[('critic','len')],ascending=False)[0:30] "
   ]
  },
  {
   "cell_type": "markdown",
   "metadata": {},
   "source": [
    "### 1.4 Ratings over time\n",
    "\n",
    "Using the `movies` dataset, create a plot that shows how the average rating per movie (rtAllCriticsRating) has evolved over time.  Do this by creating a scatterplot where the x-axis is the year in which the movie was released and the y-axis is rtAllCriticsRating.  Drop movies with 0 or unknown values to avoid biasing your results.  Then, create a scatterplot that has one <year,rating> point for each remaining movie, and pick an appropriate size/color/transparency for these points to ensure that the graph looks professional.  In other words, do not simply use the default settings, as this will produce a dense mess of dots that will be hard to interpret.  Finally, overlay on this scatterplot a line graph in orange showing how the average movie rating (the average of rtAllCriticsRating across all movies in a year) has changed over time.  Do you notice a trend?  What do you think it means?"
   ]
  },
  {
   "cell_type": "code",
   "execution_count": 17,
   "metadata": {},
   "outputs": [
    {
     "name": "stderr",
     "output_type": "stream",
     "text": [
      "C:\\Users\\ipdavies\\AppData\\Local\\Continuum\\anaconda3\\lib\\site-packages\\ipykernel_launcher.py:5: UserWarning: Boolean Series key will be reindexed to match DataFrame index.\n",
      "  \"\"\"\n"
     ]
    },
    {
     "data": {
      "image/png": "[encoded data removed]",
      "text/plain": [
       "<matplotlib.figure.Figure at 0x1671447c668>"
      ]
     },
     "metadata": {},
     "output_type": "display_data"
    }
   ],
   "source": [
    "# First we need to convert the columns of type `object` in the movies df to type `numeric`\n",
    "cols = movies.columns.drop(['title','spanishTitle','imdbPictureURL','rtID','rtPictureURL'])\n",
    "movies[cols] = movies[cols].apply(pd.to_numeric, errors='coerce')\n",
    "\n",
    "grouped = movies.dropna(subset=['rtAllCriticsRating'])[(movies['rtAllCriticsRating'] > 0)] # first remove NaN and 0 values\n",
    "grouped = grouped.groupby('year', as_index=False)['rtAllCriticsRating'].mean() # then find average rating each year\n",
    "                 \n",
    "ax = plt.subplot(111)\n",
    "plt.scatter(x=grouped['year'], y=grouped['rtAllCriticsRating'], color=\"red\", alpha=0.45)\n",
    "ax.spines['right'].set_visible(False)\n",
    "ax.spines['top'].set_visible(False)"
   ]
  },
  {
   "cell_type": "markdown",
   "metadata": {},
   "source": [
    "The average All Critics Rating has steadily decreased from over 8.5 in 1925 to barely over 5.0 in 2010. My theory is that movies are actually getting worse over time -- lots of bad summer blockbusters, mindless slasher flicks, cliches, etc. But this may also be the \"golden oldies\" effect where older classics are seen with nostalgia."
   ]
  },
  {
   "cell_type": "markdown",
   "metadata": {},
   "source": [
    "## Part 2: Naive Bayes\n",
    "\n",
    "Now it gets fun!  You are going to use a [Naive Bayes classifier](https://en.wikipedia.org/wiki/Naive_Bayes_classifier) to build a prediction model for whether a review is fresh or rotten, depending on the text of the review. Review the assigned readings on Canvas, as well as the relevant lecture notes before embarking on this journey.\n",
    "\n",
    "### Using CountVectorizer\n",
    "\n",
    "One thing that may help you in the following problems is the [CountVectorizer](http://scikit-learn.org/stable/modules/generated/sklearn.feature_extraction.text.CountVectorizer.html) object in Scikit-learn.  This will help you convert your raw text fields into \"bag of words\" vectors, i.e. a data structure that tells you how many times a particular word appears in a blurb.  Here's a simple example, make sure you understand what's going on!"
   ]
  },
  {
   "cell_type": "code",
   "execution_count": 19,
   "metadata": {},
   "outputs": [
    {
     "name": "stdout",
     "output_type": "stream",
     "text": [
      "Original text is\n",
      " machine learning rocks\n",
      "machine learning rules\n",
      "rocks rocks rules\n",
      "\n",
      "Transformed text vector is \n",
      " [[1 1 1 0]\n",
      " [1 1 0 1]\n",
      " [0 0 2 1]]\n",
      "\n",
      "Words for each feature:\n",
      "['learning', 'machine', 'rocks', 'rules']\n"
     ]
    }
   ],
   "source": [
    "from sklearn.feature_extraction.text import CountVectorizer\n",
    "\n",
    "text = ['machine learning rocks', 'machine learning rules', 'rocks rocks rules']\n",
    "print(\"Original text is\\n\", '\\n'.join(text))\n",
    "\n",
    "vectorizer = CountVectorizer(min_df=0)\n",
    "\n",
    "# call `fit` to build the vocabulary\n",
    "vectorizer.fit(text)\n",
    "\n",
    "# call `transform` to convert text to a bag of words\n",
    "x = vectorizer.transform(text)\n",
    "\n",
    "# CountVectorizer uses a sparse array to save memory, but it's easier in this assignment to \n",
    "# convert back to a \"normal\" numpy array\n",
    "x = x.toarray()\n",
    "\n",
    "print()\n",
    "print(\"Transformed text vector is \\n\", x)\n",
    "\n",
    "# `get_feature_names` tracks which word is associated with each column of the transformed x\n",
    "print()\n",
    "print(\"Words for each feature:\")\n",
    "print(vectorizer.get_feature_names())"
   ]
  },
  {
   "cell_type": "markdown",
   "metadata": {},
   "source": [
    "### 2.1 Create your X input and Y output\n",
    "\n",
    "Using the `reviews` dataframe, compute a pair of numerical X, Y arrays where:\n",
    "    \n",
    " * X is a `(nreview, nwords)` array. Each row corresponds to a bag-of-words representation for a single review. This will be the *input* to your model.\n",
    " * Y is a `nreview`-element 1/0 array, encoding whether a review is Fresh (1) or Rotten (0). This is the desired *output* from your model.\n",
    " \n",
    "Make sure to remove items with no review text"
   ]
  },
  {
   "cell_type": "code",
   "execution_count": 20,
   "metadata": {},
   "outputs": [],
   "source": [
    "\"\"\"\n",
    "Function\n",
    "--------\n",
    "make_xy\n",
    "\n",
    "Build a bag-of-words training set for the review data\n",
    "\n",
    "Parameters\n",
    "-----------\n",
    "reviews : Pandas DataFrame\n",
    "    The review data from above\n",
    "    \n",
    "vectorizer : CountVectorizer object (optional)\n",
    "    A CountVectorizer object to use. If None,\n",
    "    then create and fit a new CountVectorizer.\n",
    "    Otherwise, re-fit the provided CountVectorizer\n",
    "    using the reviews data\n",
    "    \n",
    "Returns\n",
    "-------\n",
    "X : numpy array (dims: nreview, nwords)\n",
    "    Bag-of-words representation for each review.\n",
    "Y : numpy array (dims: nreview)\n",
    "    1/0 array. 1 = fresh review, 0 = rotten review\n",
    "\n",
    "Examples\n",
    "--------\n",
    "X, Y = make_xy(reviews)\n",
    "\"\"\"\n",
    "\n",
    "def make_xy(reviews, vectorizer=None):\n",
    "    if(vectorizer == None):\n",
    "        vectorizer = CountVectorizer(min_df=0)\n",
    "    corpus = reviews['quote'] # column with review text\n",
    "    X = vectorizer.fit_transform(corpus) # fit and transform vectorizer to data\n",
    "    X = X.toarray() # convert sparse matrix to dense matrix\n",
    "    Y = np.array(reviews['fresh'].replace(['fresh','rotten'], [1,0])) # convert fresh/rotten to 1/0\n",
    "    return X, Y\n"
   ]
  },
  {
   "cell_type": "code",
   "execution_count": 21,
   "metadata": {},
   "outputs": [],
   "source": [
    "X, Y = make_xy(reviews.reset_index())"
   ]
  },
  {
   "cell_type": "markdown",
   "metadata": {},
   "source": [
    "### 2.2 Test-Train split\n",
    "\n",
    "Next, randomly split the data into two groups: a training set and a validation set.  You can do this manually, as you did in the prior problem set.  Or, use [`train_test_split`](http://scikit-learn.org/stable/modules/generated/sklearn.cross_validation.train_test_split.html) to do this auto-magically.  See [this guide](http://scikit-learn.org/stable/modules/cross_validation.html) for a simple example of how `train_test_split` works."
   ]
  },
  {
   "cell_type": "code",
   "execution_count": 22,
   "metadata": {},
   "outputs": [],
   "source": [
    "X_train, X_test, y_train, y_test = train_test_split(X, Y, test_size=0.33, random_state=0)"
   ]
  },
  {
   "cell_type": "markdown",
   "metadata": {},
   "source": [
    "### 2.3 Naive Bayes with `MultinomialNB`\n",
    "Use the training set to train a Naive Bayes classifier using the [`MultinomialNB`](http://scikit-learn.org/stable/modules/generated/sklearn.naive_bayes.MultinomialNB.html)\n",
    " object.  Report the accuracy of this model on both the training and testing data.  What do you observe?  Interpret these results!\n",
    "\n",
    "*Hint: This shouldn't take more than 5-10 lines of code to accomplish*\n",
    "\n"
   ]
  },
  {
   "cell_type": "code",
   "execution_count": 23,
   "metadata": {},
   "outputs": [],
   "source": [
    "# First let's create a function to calculate root-mean squared error\n",
    "def compute_rmse(predictions, yvalues):\n",
    "    sigma = np.sum(np.square(np.array(predictions)-np.array(yvalues)))\n",
    "    rmse = np.sqrt(sigma/len (predictions))\n",
    "    return rmse"
   ]
  },
  {
   "cell_type": "code",
   "execution_count": 1,
   "metadata": {},
   "outputs": [
    {
     "ename": "NameError",
     "evalue": "name 'MultinomialNB' is not defined",
     "output_type": "error",
     "traceback": [
      "\u001b[1;31m---------------------------------------------------------------------------\u001b[0m",
      "\u001b[1;31mNameError\u001b[0m                                 Traceback (most recent call last)",
      "\u001b[1;32m<ipython-input-1-0be6dbc81b33>\u001b[0m in \u001b[0;36m<module>\u001b[1;34m()\u001b[0m\n\u001b[1;32m----> 1\u001b[1;33m \u001b[0mclf\u001b[0m \u001b[1;33m=\u001b[0m \u001b[0mMultinomialNB\u001b[0m\u001b[1;33m(\u001b[0m\u001b[1;33m)\u001b[0m \u001b[1;31m# create classifier object\u001b[0m\u001b[1;33m\u001b[0m\u001b[0m\n\u001b[0m\u001b[0;32m      2\u001b[0m \u001b[0mfitted_model\u001b[0m \u001b[1;33m=\u001b[0m \u001b[0mclf\u001b[0m\u001b[1;33m.\u001b[0m\u001b[0mfit\u001b[0m\u001b[1;33m(\u001b[0m\u001b[0mX_train\u001b[0m\u001b[1;33m,\u001b[0m \u001b[0my_train\u001b[0m\u001b[1;33m)\u001b[0m \u001b[1;31m# fit our classifier to the training data\u001b[0m\u001b[1;33m\u001b[0m\u001b[0m\n\u001b[0;32m      3\u001b[0m \u001b[0mprint\u001b[0m\u001b[1;33m(\u001b[0m\u001b[1;34m\"CV score: \"\u001b[0m\u001b[1;33m,\u001b[0m \u001b[0mcross_val_score\u001b[0m\u001b[1;33m(\u001b[0m\u001b[0mfitted_model\u001b[0m\u001b[1;33m,\u001b[0m \u001b[0mX_train\u001b[0m\u001b[1;33m,\u001b[0m \u001b[0my_train\u001b[0m\u001b[1;33m,\u001b[0m \u001b[0mcv\u001b[0m\u001b[1;33m=\u001b[0m\u001b[1;36m10\u001b[0m\u001b[1;33m)\u001b[0m\u001b[1;33m.\u001b[0m\u001b[0mmean\u001b[0m\u001b[1;33m(\u001b[0m\u001b[1;33m)\u001b[0m\u001b[1;33m)\u001b[0m \u001b[1;31m# use cross-validation to assess the accuracy on our training data\u001b[0m\u001b[1;33m\u001b[0m\u001b[0m\n\u001b[0;32m      4\u001b[0m \u001b[1;33m\u001b[0m\u001b[0m\n\u001b[0;32m      5\u001b[0m \u001b[0mclf_pred\u001b[0m \u001b[1;33m=\u001b[0m \u001b[0mfitted_model\u001b[0m\u001b[1;33m.\u001b[0m\u001b[0mpredict\u001b[0m\u001b[1;33m(\u001b[0m\u001b[0mX_test\u001b[0m\u001b[1;33m)\u001b[0m \u001b[1;31m# now see how many ratings we can correctly predict in our test data\u001b[0m\u001b[1;33m\u001b[0m\u001b[0m\n",
      "\u001b[1;31mNameError\u001b[0m: name 'MultinomialNB' is not defined"
     ]
    }
   ],
   "source": [
    "clf = MultinomialNB() # create classifier object\n",
    "fitted_model = clf.fit(X_train, y_train) # fit our classifier to the training data\n",
    "print(\"CV score: \", cross_val_score(fitted_model, X_train, y_train, cv=10).mean()) # use cross-validation to assess the accuracy on our training data\n",
    "\n",
    "clf_pred = fitted_model.predict(X_test) # now see how many ratings we can correctly predict in our test data\n",
    "print(\"RMSE on test data: \", compute_rmse(clf_pred, y_test)) # assess error\n",
    "print(\"Accuracy score is: \", accuracy_score(y_test, clf_pred)) # assess accuracy"
   ]
  },
  {
   "cell_type": "markdown",
   "metadata": {},
   "source": [
    "That's pretty bad! On the training data, our model only had an accuracy of around 78%. Unsurprisingly, this accuracy dropped even lower when we tried to predict the ratings on our test data, with a RMSE of 48%. "
   ]
  },
  {
   "cell_type": "markdown",
   "metadata": {},
   "source": [
    "### 2.4 (EXTRA CREDIT) Naive Bayes from Scratch!\n",
    "That was almost too easy, right?  Right.\n",
    "\n",
    "Your next mission, should you choose to accept it, is to write your own Naive Bayes classifier without relying on `MultinomialNB` or a similar pre-written package.  In addition to the lecture notes and assigned readings, I highly recommend that you review Michael Collin’s lecture notes on Naïve Bayes before starting (available on Canvas).  \n",
    "\n",
    "**Note:**\n",
    "You should do this extra credit assignment *after* you have finished the rest of the problem set.  It is very rewarding, but can also be quite time-consuming!\n",
    "\n",
    "*Hint: You will benefit most from this exercise if you attempt to write the algorithm directly from the lecture notes.  That said, if you really get stuck, Krishnamurthy Viswanathan has written a simple version of [NB in python](http://ebiquity.umbc.edu/blogger/2010/12/07/naive-bayes-classifier-in-50-lines/), which you can peek at if you really get stuck.*"
   ]
  },
  {
   "cell_type": "code",
   "execution_count": null,
   "metadata": {
    "collapsed": true
   },
   "outputs": [],
   "source": [
    "# Your code here"
   ]
  },
  {
   "cell_type": "markdown",
   "metadata": {},
   "source": [
    "---\n",
    "\n",
    "## Part 3: Evaluation\n",
    "\n",
    "### 3.1 Estimate the likelihood of your data\n",
    "\n",
    "Given a fitted model, you can compute the log-likelihood of your data as a way to assess the performance of your model.  Using `fitted_model.predict_logproba`, the idea is to write a function that computes the log-likelihood of a dataset, so that we can inspect the log-likelihood of your training and testing data given your fitted model from part 2.\n",
    "\n",
    "To help you out a little bit, we'll do this part for you. But make sure you understand it, because you'll need to use this later!"
   ]
  },
  {
   "cell_type": "code",
   "execution_count": 29,
   "metadata": {},
   "outputs": [
    {
     "data": {
      "text/plain": [
       "-2480.1498914185286"
      ]
     },
     "execution_count": 29,
     "metadata": {},
     "output_type": "execute_result"
    }
   ],
   "source": [
    "\"\"\"\n",
    "Function\n",
    "--------\n",
    "log_likelihood\n",
    "\n",
    "Compute the log likelihood of a dataset according to a bayesian classifier. \n",
    "The Log Likelihood is defined by\n",
    "\n",
    "L = Sum_fresh(logP(fresh)) + Sum_rotten(logP(rotten))\n",
    "\n",
    "Where Sum_fresh indicates a sum over all fresh reviews, \n",
    "and Sum_rotten indicates a sum over rotten reviews\n",
    "    \n",
    "Parameters\n",
    "----------\n",
    "model : Bayesian classifier\n",
    "x : (nexample, nfeature) array\n",
    "    The input data\n",
    "y : (nexample) integer array\n",
    "    Whether each review is Fresh\n",
    "\"\"\"\n",
    "\n",
    "def log_likelihood(model, x, y):\n",
    "    prob = model.predict_log_proba(x)\n",
    "    rotten = y == 0\n",
    "    fresh = ~rotten\n",
    "    return prob[rotten, 0].sum() + prob[fresh, 1].sum()\n",
    "\n",
    "log_likelihood(fitted_model, X_test, y_test)"
   ]
  },
  {
   "cell_type": "markdown",
   "metadata": {},
   "source": [
    "### 3.2 Cross-Validation\n",
    "\n",
    "Why do we care about the log-likelihood of our data?  You guessed it: Cross-Validation.\n",
    "\n",
    "Our classifier has a few hyperparameters. The two most important are:\n",
    "\n",
    " 1. The `min_df` keyword in `CountVectorizer`, which will ignore words which appear in fewer than `min_df` fraction of reviews. Words that appear only once or twice can lead to overfitting, since words which occur only a few times might correlate very well with Fresh/Rotten reviews by chance in the training dataset.\n",
    " \n",
    " 2. The [`alpha` keyword](http://scikit-learn.org/stable/modules/naive_bayes.html#multinomial-naive-bayes) in the Bayesian classifier is a \"smoothing parameter\" -- increasing the value decreases the sensitivity to any single feature, and tends to pull prediction probabilities closer to 50%. \n",
    "\n",
    "How are we are going to use cross-validation to tune these hyperparameters?  The objective function we want to maximize is the log-likelihood of our data.  Fill in the remaining code in this block, to loop over many values of `alpha` and `min_df` to determine\n",
    "which settings are \"best\" in the sense of maximizing the cross-validated log-likelihood.\n",
    "\n",
    "*hint: sklearn has a built-in function, `sklearn.cross_validation.cross_val_score`, that might save you a lot of time here...*"
   ]
  },
  {
   "cell_type": "code",
   "execution_count": 30,
   "metadata": {},
   "outputs": [
    {
     "name": "stdout",
     "output_type": "stream",
     "text": [
      "Best accuracy score:  0.9518353726362625\n",
      "Max log-likelihood:  -999.1832320664995\n",
      "CV accuracy score:  0.7474968533047938\n",
      "Best alpha:  0.1\n",
      "Best min_df:  1e-05\n"
     ]
    }
   ],
   "source": [
    "from sklearn.metrics import accuracy_score\n",
    "\n",
    "#the grid of parameters to search over\n",
    "alphas = [.1, 1, 5, 10, 50] # alpha = 0 returns numeric errors, so we're removing it here\n",
    "min_dfs = [1e-5, 1e-4, 1e-3, 1e-2, 1e-1]\n",
    "\n",
    "#Find the best value for alpha and min_df, and the best classifier\n",
    "best_alpha = []\n",
    "best_min_df = []\n",
    "max_loglike = []\n",
    "\n",
    "for alpha in alphas:\n",
    "    for min_df in min_dfs:         \n",
    "        vectorizer = CountVectorizer(min_df = min_df) # create vectorizer with given min_df\n",
    "        X, Y = make_xy(reviews, vectorizer) # tokenize and count frequency of words, return data matrix and target vector\n",
    "        X_train, X_test, y_train, y_test = train_test_split(X, Y, test_size=0.33, random_state=0) # re-split data\n",
    "        clf = MultinomialNB(alpha=alpha) # create classifier object with given alpha\n",
    "        fitted_model = clf.fit(X_train, y_train) # fit classifier to the training data\n",
    "        max_loglike.append(log_likelihood(fitted_model, X_train, y_train))\n",
    "        best_alpha.append(alpha)\n",
    "        best_min_df.append(min_df)\n",
    "\n",
    "# we only need to run CV once on the hyperparameters that maximize the log-likelihood\n",
    "best_alpha = best_alpha[max_loglike.index(max(max_loglike))]\n",
    "best_min_df = best_min_df[max_loglike.index(max(max_loglike))]\n",
    "vectorizer = CountVectorizer(min_df = best_min_df)       \n",
    "X, Y = make_xy(reviews, vectorizer)\n",
    "X_train, X_test, y_train, y_test = train_test_split(X, Y, test_size=0.33, random_state=0) # re-split data\n",
    "clf = MultinomialNB(alpha=best_alpha) \n",
    "fitted_model = clf.fit(X_train, y_train) \n",
    "max_score = cross_val_score(fitted_model, X_train, y_train, cv=10).mean()\n",
    "\n",
    "print(\"Best accuracy score: \", fitted_model.score(X_train, y_train))\n",
    "print(\"Max log-likelihood: \", max(max_loglike))\n",
    "print(\"CV accuracy score: \", max_score) # CV accuracy using the alpha and min_df that gave the best accuracy score\n",
    "print(\"Best alpha: \", best_alpha)\n",
    "print(\"Best min_df: \",best_min_df)"
   ]
  },
  {
   "cell_type": "markdown",
   "metadata": {},
   "source": [
    "### 3.3 Putting it together\n",
    "\n",
    "Now that you've determined values for alpha and min_df that optimize the cross-validated log-likelihood, repeat the steps in 2.1-2.3 to train a final classifier with these parameters and re-evaluate the accuracy.  Discuss the various ways in which Cross-Validation has affected the model. Is the new model more or less accurate? Is overfitting better or worse?"
   ]
  },
  {
   "cell_type": "code",
   "execution_count": 31,
   "metadata": {},
   "outputs": [
    {
     "name": "stdout",
     "output_type": "stream",
     "text": [
      "RMSE on test data:  0.49563458961347123\n",
      "Accuracy score is:  0.754346353578686\n"
     ]
    }
   ],
   "source": [
    "# We can use the fitted_model that we reported in 3.2 and run it on our test data\n",
    "\n",
    "clf_pred = fitted_model.predict(X_test) # now see how many ratings we can correctly predict in our test data\n",
    "\n",
    "print(\"RMSE on test data: \", compute_rmse(clf_pred, y_test)) # assess error\n",
    "print(\"Accuracy score is: \", accuracy_score(y_test, clf_pred)) # assess accuracy"
   ]
  },
  {
   "cell_type": "markdown",
   "metadata": {},
   "source": [
    "The model is ... not any better! In fact, the accuracy is slightly lower (76.0% now, a decrease from 78.1% earlier with default parameters). The RMSE is slightly higher (48.9% now versus 46.8% earlier). The model is most likely overfitted, because the original accuracy score on the training data is very good (96%) but drops to 75.3% when cross-validated. Interestingly it does slightly better on the test data, perhaps this suggests that maximizing the likelihood was not the best way to optimize the hyperparameters. "
   ]
  },
  {
   "cell_type": "markdown",
   "metadata": {},
   "source": [
    "### 3.4 (Extra Credit)\n",
    "\n",
    "What happens if you tried this again using a function besides the log-likelihood -- for example, the classification accuracy?  Interpret these results"
   ]
  },
  {
   "cell_type": "code",
   "execution_count": 32,
   "metadata": {},
   "outputs": [
    {
     "name": "stdout",
     "output_type": "stream",
     "text": [
      "Best accuracy score:  0.9518353726362625\n",
      "CV accuracy score:  0.7474968533047938\n",
      "Best alpha:  0.1\n",
      "Best min_df:  1e-05\n"
     ]
    }
   ],
   "source": [
    "#the grid of parameters to search over\n",
    "alphas = [.1, 1, 5, 10, 50] # alpha = 0 returns numeric errors, so we're removing it here\n",
    "min_dfs = [1e-5, 1e-4, 1e-3, 1e-2, 1e-1]\n",
    "\n",
    "#Find the best value for alpha and min_df, and the best classifier\n",
    "best_alpha = []\n",
    "best_min_df = []\n",
    "score = []\n",
    "\n",
    "for alpha in alphas:\n",
    "    for min_df in min_dfs:         \n",
    "        vectorizer = CountVectorizer(min_df = min_df)       \n",
    "        X, Y = make_xy(reviews, vectorizer)\n",
    "        X_train, X_test, y_train, y_test = train_test_split(X, Y, test_size=0.33, random_state=0) # re-split data\n",
    "        clf = MultinomialNB(alpha=alpha) # create classifier object with given alpha\n",
    "        fitted_model = clf.fit(X_train, y_train) # fit classifier to the training data\n",
    "        score.append(fitted_model.score(X_train, y_train))\n",
    "        best_alpha.append(alpha)\n",
    "        best_min_df.append(min_df)\n",
    "\n",
    "# we only need to run CV once on the hyperparameters that maximize the log-likelihood\n",
    "best_alpha = best_alpha[score.index(max(score))]\n",
    "best_min_df = best_min_df[score.index(max(score))]\n",
    "vectorizer = CountVectorizer(min_df = best_min_df)       \n",
    "X, Y = make_xy(reviews, vectorizer)\n",
    "X_train, X_test, y_train, y_test = train_test_split(X, Y, test_size=0.33, random_state=0)\n",
    "clf = MultinomialNB(alpha=best_alpha) \n",
    "fitted_model = clf.fit(X_train, y_train) \n",
    "max_score = cross_val_score(fitted_model, X_train, y_train, cv=10).mean()\n",
    "\n",
    "print(\"Best accuracy score: \", max(score))\n",
    "print(\"CV accuracy score: \", max_score) # CV accuracy using the alpha and min_df that gave the best accuracy score\n",
    "print(\"Best alpha: \", best_alpha)\n",
    "print(\"Best min_df: \", best_min_df)"
   ]
  },
  {
   "cell_type": "code",
   "execution_count": 33,
   "metadata": {},
   "outputs": [
    {
     "name": "stdout",
     "output_type": "stream",
     "text": [
      "RMSE on test data:  0.49563458961347123\n",
      "Accuracy score is:  0.754346353578686\n"
     ]
    }
   ],
   "source": [
    "# Now let's try it on the test data\n",
    "\n",
    "clf_pred = fitted_model.predict(X_test) # now see how many ratings we can correctly predict in our test data\n",
    "\n",
    "print(\"RMSE on test data: \", compute_rmse(clf_pred, y_test)) # assess error\n",
    "print(\"Accuracy score is: \", accuracy_score(y_test, clf_pred)) # assess accuracy"
   ]
  },
  {
   "cell_type": "markdown",
   "metadata": {},
   "source": [
    "Optimizing for accuracy gave us the same hyperparameters, with a max accuracy score on the training data of 95.2%. but unfortunately this model was also overfitted and only resulted in a cross-validated score on training data of 74.7% and an accuracy on the test data of 75.8%.\n",
    "\n",
    "I think optimizing for *cross-validated accuracy* rather than just accuracy on the training data might improve the model slightly. But this would greatly increase the time it takes to run the grid search, and there is only so much that tweaking the hyperparameters can do. "
   ]
  },
  {
   "cell_type": "markdown",
   "metadata": {},
   "source": [
    "### 3.5 Interpretation\n",
    "\n",
    "What words best predict a fresh or rotten review?  Using your classifier and the `vectorizer.get_feature_names` method, determine which words best predict a positive or negative review. Print the 10 words that best predict a \"fresh\" review, and the 10 words that best predict a \"rotten\" review. For each word, what is the model's probability of freshness if the word appears one time?\n",
    "\n",
    "#### Hints\n",
    "* In thinking about how to measure the impact of a word on freshness rating, consider computing the classification probability for a feature vector which consists of all 0s, except for a single 1. What does this probability refer to?\n",
    "* `numpy.identity` generates an identity matrix, where all values are zero except the diagonal elements which have a value of one"
   ]
  },
  {
   "cell_type": "code",
   "execution_count": 34,
   "metadata": {},
   "outputs": [],
   "source": [
    "X_id = np.identity(20875) # first create an n x n identity matrix, where n = number of words in corpus\n",
    "\n",
    "# X_id is an identity matrix where each possible word appears only once.\n",
    "# In this n x n matrix, the word represented by column 5 only appears once -- in row 5. \n",
    "\n",
    "probs = fitted_model.predict_proba(X_id) # now fit the model to the identity matrix, giving us probabilities for each word\n",
    "\n",
    "# The model technically gives the probability that a given review (row of the matrix) is fresh. \n",
    "# But because each row contains one and only one -unique- word from the corpus, it essentially gives the probability of that word"
   ]
  },
  {
   "cell_type": "code",
   "execution_count": 35,
   "metadata": {},
   "outputs": [
    {
     "name": "stdout",
     "output_type": "stream",
     "text": [
      "The words that best predict a fresh rating:\n",
      "prob      words\n",
      "0.996810    delight\n",
      "0.996050     superb\n",
      "0.994816  absorbing\n",
      "0.994531   captures\n",
      "0.994213   intimate \n",
      "\n",
      "The words that best predict a rotten rating:\n",
      "prob           words\n",
      "0.005520            lame\n",
      "0.006201  disappointment\n",
      "0.007075      uninspired\n",
      "0.007075       pointless\n",
      "0.007611           sadly\n"
     ]
    }
   ],
   "source": [
    "word_pwr = pd.DataFrame({'words':vectorizer.get_feature_names(), 'prob':probs[:,1]}) # put words and probs together in df\n",
    "\n",
    "print(\"The words that best predict a fresh rating:\") \n",
    "print(word_pwr.sort_values(by=['prob'], ascending=False)[0:5].to_string(index=False), \"\\n\")\n",
    "\n",
    "print(\"The words that best predict a rotten rating:\") \n",
    "print(word_pwr.sort_values(by=['prob'])[0:5].to_string(index=False))"
   ]
  },
  {
   "cell_type": "markdown",
   "metadata": {},
   "source": [
    "Makes intuitive sense -- words that are positive connote a fresh rating, those that are generally negative suggest a rotten rating."
   ]
  },
  {
   "cell_type": "markdown",
   "metadata": {},
   "source": [
    "### 3.6 Error Analysis\n",
    "\n",
    "One of the best sources for inspiration when trying to improve a model is to look at examples where the model performs poorly.  Find 5 fresh and rotten reviews where your model performs particularly poorly. Print each review.\n",
    "\n",
    "What do you notice about these mis-predictions? Naive Bayes classifiers assume that every word affects the probability independently of other words. In what way is this a bad assumption? In your answer, report your classifier's Freshness probability for the review \"This movie is not remarkable, touching, or superb in any way\"."
   ]
  },
  {
   "cell_type": "code",
   "execution_count": 36,
   "metadata": {},
   "outputs": [],
   "source": [
    "# first we find the class probabilities for each review as predicted by our NB model\n",
    "# We do this for our entire dataset \n",
    "probs = fitted_model.predict_proba(X)\n",
    "\n",
    "# next find the absolute difference between predicted and actual class\n",
    "probsabs = np.abs(probs[:,1] - Y)"
   ]
  },
  {
   "cell_type": "code",
   "execution_count": 37,
   "metadata": {},
   "outputs": [
    {
     "name": "stdout",
     "output_type": "stream",
     "text": [
      "Rotten review 0 : Despite the presence of Billina the talking hen, the emphasis on insecurity and peril harks back to the treat-'em-rough days of children's fiction, and the disturbing/comforting ratio tilts conclusively towards the former. \n",
      "\n",
      "Rotten review 1 : The movie is a pleasure to watch, the craft is voluptuous to regard, but The Curse of the Jade Scorpion lacks the elusive zing of inspiration. \n",
      "\n",
      "Rotten review 2 : There's no faulting Cage's committed, intense performance, but his slide from professional, internalised concern into personal, self-righteous rage still leaves a nasty aftertaste. \n",
      "\n",
      "Rotten review 3 : A lightweight romance for the senior crowd, Last Chance Harvey does nothing in particular, but it does it fairly well thanks to stars Dustin Hoffman and Emma Thompson. \n",
      "\n",
      "Rotten review 4 : The plot of The Glimmer Man involves not only the Family Man but Our Evil Secret Government, the Russian Mafia and Rich Powerful Politicians -- the three stooges of action cinema in the '90s. \n",
      "\n",
      "Fresh review 0 : Sit-com stuff, then, with laboured farcical interludes, and a mushy post-feminist sensibility. Funny notwithstanding. \n",
      "\n",
      "Fresh review 1 : How [Brooks] emerged an abler artist is worth puzzling over; I suspect it has something to do with sheer instinct triumphing over industry machinery. \n",
      "\n",
      "Fresh review 2 : The staging is wooden, the story insipid, and the dialogue sequences mostly painful, but the film's integration of song, dance, and story was a clear narrative advance over the music pictures being released by Warner Brothers and Fox. \n",
      "\n",
      "Fresh review 3 : Basically, the movie's an extended setup for a dinner-table comedy of errors, in which the mismatched relatives confront one another in a nerve-racking test of appearances. \n",
      "\n",
      "Fresh review 4 : What's the fourth \"Die Hard\" called? I keep forgetting. \"Die Hard: With a Pension\"? \"Die Hardened Arteries\"? \"Die Laughing\"? \n",
      "\n"
     ]
    },
    {
     "data": {
      "text/plain": [
       "array([0.99991726])"
      ]
     },
     "execution_count": 37,
     "metadata": {},
     "output_type": "execute_result"
    }
   ],
   "source": [
    "# find five poorly classified fresh reviews\n",
    "rotten = reviews.assign(probs = probsabs)[reviews['fresh']=='rotten'].sort_values(by=['probs'], ascending=False)[0:5]\n",
    "\n",
    "for i in np.arange(5):\n",
    "    print(\"Rotten review\", i, \":\", rotten.iloc[i]['quote'], \"\\n\")\n",
    "    \n",
    "# find five poorly classified fresh reviews\n",
    "fresh = reviews.assign(probs = probsabs)[reviews['fresh']=='fresh'].sort_values(by=['probs'], ascending=False)[0:5]\n",
    "\n",
    "for i in np.arange(5):\n",
    "    print(\"Fresh review\", i, \":\", fresh.iloc[i]['quote'], \"\\n\")\n",
    "    \n",
    "# How does our classifier rate the review \"This movie is not remarkable, touching, or superb in any way\"?\n",
    "new = vectorizer.transform([\"This movie is not remarkable, touching, or superb in any way\"])\n",
    "fitted_model.predict_proba(new)[:,1]"
   ]
  },
  {
   "cell_type": "markdown",
   "metadata": {},
   "source": [
    "The phrasing is interesting. The fresh reviews contain individual words that surely belong in a rotten review: \"insipid\", \"laboured\", \"errors\", \"painful\". And likewise the rotten reviews contain mostly positive words: \"committed\", \"intense\", \"pleasure\". However, the way these words are strung together reverses their connotation because the critic is sarcastic or sardonic. This is very hard to capture in NLP, but including more than just individual words would help because context and phrases matter.\n",
    "\n",
    "This is made really clear when we try to use our classifier to rate the sentence \"This movie is not remarkable, touching, or superb in any way.\" Our classifier returns a 99.99% fresh probability! But this is clearly a \"rotten\" review."
   ]
  },
  {
   "cell_type": "markdown",
   "metadata": {},
   "source": [
    "## Part 4: Principal Component Analysis\n",
    "\n",
    "Just when you thought you were *finally* done with the [Boston Housing Prices Data Set](http://archive.ics.uci.edu/ml/datasets/Housing), it has come back to haunt you for a few more minutes.  Make sure you're up and running as you were on the previous problem set:"
   ]
  },
  {
   "cell_type": "code",
   "execution_count": 38,
   "metadata": {},
   "outputs": [],
   "source": [
    "from sklearn.decomposition import PCA\n",
    "from sklearn.datasets import load_boston\n",
    "bdata = load_boston()"
   ]
  },
  {
   "cell_type": "markdown",
   "metadata": {},
   "source": [
    "### 4.1 Remember the last problem set?\n",
    "\n",
    "Use matplotlib to create a scatter plot that shows the relationship between the median value of the home (y-axis) and the per-capita crime rate (x-axis).  Properly label your axes, and make sure that your graphic looks polished and professional.  If you didn't get full credit for this on the first problem set, get full credit this time!\n",
    "\n",
    "Then, just as you did on the previous problem set, use the [Linear Regression class](http://scikit-learn.org/stable/modules/generated/sklearn.linear_model.LinearRegression.html) from sklearn or the [OLS class](http://wiki.scipy.org/Cookbook/OLS) from SciPy to regress median housing price on average number of rooms per house.  Use a training set consisting of 66% of your instances to fit your regression model.  Report the RMSE on the training and test set."
   ]
  },
  {
   "cell_type": "code",
   "execution_count": 39,
   "metadata": {},
   "outputs": [
    {
     "data": {
      "image/png": "[encoded data removed]",
      "text/plain": [
       "<matplotlib.figure.Figure at 0x167001976d8>"
      ]
     },
     "metadata": {},
     "output_type": "display_data"
    }
   ],
   "source": [
    "ax = plt.subplot(111)\n",
    "plt.scatter(bdata.data[:,0], bdata.target, color=\"orange\")\n",
    "plt.ylabel('Median Housing Price')\n",
    "plt.xlabel('Per-capita Crime Rate')\n",
    "plt.title('Crime and home prices')\n",
    "ax.spines['right'].set_visible(False)\n",
    "ax.spines['top'].set_visible(False)"
   ]
  },
  {
   "cell_type": "code",
   "execution_count": 40,
   "metadata": {},
   "outputs": [
    {
     "name": "stdout",
     "output_type": "stream",
     "text": [
      "RMSE of linear model on train set: 8.6\n",
      "RMSE of linear model on test set: 8.255\n"
     ]
    }
   ],
   "source": [
    "# split data into train and test\n",
    "x = bdata.data[:,0].reshape(-1,1) # reshape into (n, 1) arrays\n",
    "y = bdata.target.reshape(-1,1)\n",
    "\n",
    "X_train, X_test, y_train, y_test = train_test_split(x, y, test_size=0.33)\n",
    "\n",
    "from sklearn import linear_model\n",
    "lm = linear_model.LinearRegression()\n",
    "\n",
    "lm = lm.fit(X_train, y_train)\n",
    "\n",
    "lm_pred = lm.predict(X_train)\n",
    "print('RMSE of linear model on train set:', round(compute_rmse(lm_pred, y_train),3)) # calculate RMSE for training set\n",
    "\n",
    "lm_pred = lm.predict(X_test) # now predict on the test set\n",
    "print('RMSE of linear model on test set:', round(compute_rmse(lm_pred, y_test),3)) # calculate RMSE for test set"
   ]
  },
  {
   "cell_type": "markdown",
   "metadata": {},
   "source": [
    "### 4.2 So many scatterplots!\n",
    "\n",
    "Choose 8 out of the 14 features of the housing data that you think are most interesting to study.  Create an 8x8 grid of scatterplots showing how each of these variables relate to each other.  You want to produce something that looks generally like [this image](http://iogas.net/wp-content/gallery/iogas-evaluation/scatterplot-matrix-point-density.png)."
   ]
  },
  {
   "cell_type": "code",
   "execution_count": 41,
   "metadata": {},
   "outputs": [
    {
     "data": {
      "image/png": "[encoded data removed]",
      "text/plain": [
       "<matplotlib.figure.Figure at 0x1670030ce48>"
      ]
     },
     "metadata": {},
     "output_type": "display_data"
    }
   ],
   "source": [
    "# First subset the features of interest\n",
    "bdat_vars = bdata.data[:,np.where((bdata.feature_names == 'CRIM') | \n",
    "                      (bdata.feature_names == 'ZN') |\n",
    "                     (bdata.feature_names == 'TAX') |\n",
    "                     (bdata.feature_names == 'AGE') |\n",
    "                     (bdata.feature_names == 'LSTAT') |\n",
    "                     (bdata.feature_names == 'PTRATIO') |\n",
    "                     (bdata.feature_names == 'INDUS') |\n",
    "                     (bdata.feature_names == 'RM'))].reshape(-1,8)\n",
    "\n",
    "plt.figure(figsize=(12,12)) # create figure size\n",
    "plt.subplots_adjust(hspace=0.7) # adjust space between plots to allow for x-axis labels\n",
    "\n",
    "for i in range(8):\n",
    "    for j in range(8):\n",
    "        ax = plt.subplot(8, 8, i * 8 + j + 1)\n",
    "        ax.spines['right'].set_visible(False)\n",
    "        ax.spines['top'].set_visible(False)\n",
    "        plt.scatter(x = bdat_vars[:,j], y = bdat_vars[:,i], color=\"green\", s=4) # create scatter plot\n",
    "        if(j<1): # only plot y-axis labels for plots in first column\n",
    "            plt.ylabel(bdata.feature_names[i])\n",
    "        plt.xlabel(bdata.feature_names[j])\n",
    "        \n",
    "        "
   ]
  },
  {
   "cell_type": "markdown",
   "metadata": {},
   "source": [
    "### 4.3 PCA to the rescue\n",
    "\n",
    "Run principal component analysis using [PCA](http://scikit-learn.org/stable/modules/generated/sklearn.decomposition.PCA.html) from sklearn to find the first 12 principal components of your data.  Use only your training set (66% of the data), and use all features *except* the median housing price.  Create a figure showing how the amount of variance explained by your components increases as you increase the number of components from 1 to 12."
   ]
  },
  {
   "cell_type": "code",
   "execution_count": 44,
   "metadata": {},
   "outputs": [
    {
     "data": {
      "image/png": "[encoded data removed]",
      "text/plain": [
       "<matplotlib.figure.Figure at 0x167002fc278>"
      ]
     },
     "metadata": {},
     "output_type": "display_data"
    }
   ],
   "source": [
    "# Let's put our subsetted features into a dataframe with proper column names\n",
    "bdat_df = pd.DataFrame(data=bdata.data, columns=[bdata.feature_names])\n",
    "\n",
    "# Standardize the data (mean = 0, var = 1)\n",
    "scaler = StandardScaler() # create scaler\n",
    "bdat_scale = pd.DataFrame(scaler.fit_transform(bdat_df)) # standardize data and set as df\n",
    "\n",
    "# Now we split data into train and test\n",
    "X_train, X_test, y_train, y_test = train_test_split(bdat_df, bdata.target, test_size=0.33)\n",
    "\n",
    "# Compute the first 12 PCs\n",
    "pca = PCA(n_components=12).fit(X_train)\n",
    "\n",
    "# Skreeplot\n",
    "ax = plt.subplot(111)\n",
    "plt.plot(pca.explained_variance_ratio_, color=\"purple\")\n",
    "plt.xlabel('Number of Components')\n",
    "plt.ylabel('Variance Explained')\n",
    "ax.spines['right'].set_visible(False)\n",
    "ax.spines['top'].set_visible(False)"
   ]
  },
  {
   "cell_type": "markdown",
   "metadata": {},
   "source": [
    "### 4.4 Visualizing the components\n",
    "\n",
    "Create a 1X3 grid containing three scatter plots of your training data:\n",
    "\n",
    "1. PCA 1 vs. PCA 2 (you will need to use `fit_transform` to project your training data onto these two components)\n",
    "2. PCA 1 (x-axis) vs. median housing value\n",
    "3. PCA 2 vs. median housing value"
   ]
  },
  {
   "cell_type": "code",
   "execution_count": 43,
   "metadata": {},
   "outputs": [
    {
     "data": {
      "image/png": "[encoded data removed]",
      "text/plain": [
       "<matplotlib.figure.Figure at 0x167014c21d0>"
      ]
     },
     "metadata": {},
     "output_type": "display_data"
    }
   ],
   "source": [
    "pca_trans = pca.transform(bdat_scale)\n",
    "\n",
    "# PC1 vs. PC2 scaterplot\n",
    "plt.figure(figsize=(12,4)) # create figure size\n",
    "ax = plt.subplot(131)\n",
    "plt.scatter(x=pca_trans[:,0], y=pca_trans[:,1], color=\"orange\")\n",
    "plt.xlabel('PC1')\n",
    "plt.ylabel('PC2')\n",
    "ax.spines['right'].set_visible(False)\n",
    "ax.spines['top'].set_visible(False)\n",
    "\n",
    "# PC1 vs. median housing value\n",
    "ax = plt.subplot(132)\n",
    "plt.scatter(x=pca_trans[:,0], y=bdata.target, color=\"darkturquoise\")\n",
    "plt.xlabel('PC1')\n",
    "plt.ylabel('Median Housing Value')\n",
    "ax.spines['right'].set_visible(False)\n",
    "ax.spines['top'].set_visible(False)\n",
    "\n",
    "# PC2 vs. median housing value\n",
    "ax = plt.subplot(133)\n",
    "plt.scatter(x=pca_trans[:,1], y=bdata.target, color=\"hotpink\")\n",
    "plt.xlabel('PC2')\n",
    "plt.ylabel('Median Housing Value')\n",
    "ax.spines['right'].set_visible(False)\n",
    "ax.spines['top'].set_visible(False)"
   ]
  },
  {
   "cell_type": "markdown",
   "metadata": {},
   "source": [
    "### 4.5 Regression and PCA\n",
    "\n",
    "Using just the first Principal Component learned on the training data, project all of your data (including the test data) onto this 1-dimensional subspace using the `fit_transform` function.  Now, using your training data, fit a regression of median housing price on this first principal component of your data.  Report the RMSE of this regression for both the training and test set.  How do these results compare to your results from 4.1?  Interpret your results!"
   ]
  },
  {
   "cell_type": "code",
   "execution_count": 45,
   "metadata": {},
   "outputs": [
    {
     "name": "stdout",
     "output_type": "stream",
     "text": [
      "RMSE of linear model on train set: 7.744\n",
      "RMSE of linear model on test set: 8.528\n"
     ]
    }
   ],
   "source": [
    "# Fit our PCA to training and test data\n",
    "pca = PCA(n_components=1) # create PCA object with only the first component\n",
    "\n",
    "pca_train = pca.fit_transform(X_train) # fit to training data\n",
    "lm = linear_model.LinearRegression()\n",
    "lm = lm.fit(pca_train, y_train) # fit linear model using PC1 \n",
    "lm_train_pred = lm.predict(pca_train)\n",
    "\n",
    "pca_test = pca.fit_transform(X_test) # fit to test data\n",
    "lm_test = linear_model.LinearRegression()\n",
    "lm_test = lm.fit(pca_test, y_test) # fit linear model using PC1 \n",
    "lm_test_pred = lm.predict(pca_test)\n",
    "\n",
    "print('RMSE of linear model on train set:', round(compute_rmse(lm_train_pred, y_train),3)) # calculate RMSE for training set\n",
    "print('RMSE of linear model on test set:', round(compute_rmse(lm_test_pred, y_test),3)) # calculate RMSE for training set"
   ]
  },
  {
   "cell_type": "markdown",
   "metadata": {},
   "source": [
    "The model does better on the training set, but slightly worse on the test set using this method. This is probably because the PCA reduces the dimensionality and maximizes the variance between the features, getting rid of redundancy/extraneous features and allowing for a better fit on the training set. However, it is still basically the same information going into the model, so there is not much of an improvement on the test set."
   ]
  }
 ],
 "metadata": {
  "kernelspec": {
   "display_name": "Python 3",
   "language": "python",
   "name": "python3"
  },
  "language_info": {
   "codemirror_mode": {
    "name": "ipython",
    "version": 3
   },
   "file_extension": ".py",
   "mimetype": "text/x-python",
   "name": "python",
   "nbconvert_exporter": "python",
   "pygments_lexer": "ipython3",
   "version": "3.6.5"
  }
 },
 "nbformat": 4,
 "nbformat_minor": 1
}
