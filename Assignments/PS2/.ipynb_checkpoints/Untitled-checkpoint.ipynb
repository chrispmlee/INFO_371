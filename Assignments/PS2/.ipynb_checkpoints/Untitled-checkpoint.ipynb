{
 "cells": [
  {
   "cell_type": "code",
   "execution_count": 61,
   "metadata": {},
   "outputs": [
    {
     "name": "stderr",
     "output_type": "stream",
     "text": [
      "C:\\Users\\ipdavies\\AppData\\Local\\Continuum\\anaconda3\\lib\\site-packages\\ipykernel_launcher.py:23: RuntimeWarning: invalid value encountered in true_divide\n"
     ]
    },
    {
     "name": "stdout",
     "output_type": "stream",
     "text": [
      "35\n",
      "17.21 seconds\n"
     ]
    }
   ],
   "source": [
    "import numpy as np\n",
    "import pandas as pd\n",
    "import scipy as sp\n",
    "from scipy import sparse\n",
    "from scipy.sparse import csc_matrix\n",
    "import time\n",
    "\n",
    "start_time = time.clock() # start timing the program\n",
    "\n",
    "# constants\n",
    "alpha = 0.85\n",
    "epsilon = 0.00001\n",
    "\n",
    "# read data\n",
    "dat = pd.read_csv(\"links.txt\") # reading as df is faster than reading as array\n",
    "dat = dat.as_matrix() # convert to dense matrix\n",
    "\n",
    "# create empty adjacency matrix\n",
    "n = len(np.unique(dat[:,1])) # each individual journal will occupy one columna and one row\n",
    "Z = np.zeros((n,n)) # n x n zero matrix\n",
    "\n",
    "# fill empty matrix Z with citations\n",
    "for i in range(0, dat.shape[0]-1): # journals are numbered sequentially, so journal 1 will be indexed as [1,1] in our matrix\n",
    "    Z[dat[i,0], dat[i,1]] = dat[i,2]\n",
    "\n",
    "# set diagonals to zero\n",
    "np.fill_diagonal(Z,0)\n",
    "\n",
    "# normalize columns\n",
    "H = np.divide(Z, Z.sum(axis=0)) # each column now sums to 1\n",
    "H = np.nan_to_num(H) # set NaN to 0 (artifact of some columns having sum = 0)\n",
    "\n",
    "# identify dangling nodes by adding row vector d \n",
    "# d=1 if journal doesn't cite other journals, d=0 if it does\n",
    "d = np.zeros((len(H))) # empty vector\n",
    "for i in range(0,len(H)-1): # if journal has no outgoing citations, 1, else 0\n",
    "    if Z[:,i].sum(axis=0) == 0:\n",
    "        d[i] = 1\n",
    "    else:\n",
    "        d[i] = 0\n",
    "        \n",
    "# create article vector\n",
    "A_tot = len(H) # assume all journals publish one article\n",
    "a = np.ones((1, len(H))) \n",
    "a = a.reshape((len(H),1)) # reshape from row to column vector\n",
    "a = np.divide(a, A_tot) # normalize so vector sums to 1\n",
    "\n",
    "# initial start vector\n",
    "pi0 = np.zeros((len(Z),1)) # start pi0 at 0 so that L1 norm of pi-pi0 is > epsilon initially\n",
    "pi = (np.ones((len(Z), 1))) / len(Z) # start pi for all journals equally, 1/n\n",
    "count=1 # start iteration counter\n",
    "\n",
    "H = sp.sparse.csr_matrix(H) # convert H to sparse matrix to conserve memory\n",
    "\n",
    "# calculate influence vector\n",
    "# while np.linalg.norm((pi-pi0),ord=1) > epsilon:\n",
    "while np.sum(np.abs(pi-pi0)) > epsilon: # iterate until L1 norm is <= epsilon\n",
    "    count+=1\n",
    "    pi0 = pi.copy() # pi0 is the previous iteration of pi\n",
    "    pi = (alpha * H * pi0) + (alpha * np.dot(d, pi0) + (1-alpha))*a # calculate new iteration \n",
    "print(count)\n",
    "\n",
    "# calculate eigenfactor\n",
    "EF = 100* (sparse.csr_matrix.dot(H, pi)/sum(sparse.csr_matrix.dot(H, pi)))\n",
    "\n",
    "# print time it took to run program\n",
    "print (\"{:.2f}\".format(time.clock() - start_time), \"seconds\") \n",
    "\n",
    "# top 20 journals (left) and scores (right)\n",
    "\n",
    "np.set_printoptions(suppress=True)\n",
    "np.hstack((np.argsort(-EF, axis=0)[0:19],\n",
    "         sorted(EF, reverse=True)[0:19]))"
   ]
  },
  {
   "cell_type": "code",
   "execution_count": 92,
   "metadata": {},
   "outputs": [
    {
     "data": {
      "text/plain": [
       "array([[8930.        ,    1.10864047],\n",
       "       [ 725.        ,    0.24739567],\n",
       "       [ 239.        ,    0.24381836],\n",
       "       [6523.        ,    0.23517267],\n",
       "       [6569.        ,    0.22611775],\n",
       "       [6697.        ,    0.22525534],\n",
       "       [6667.        ,    0.21670067],\n",
       "       [4408.        ,    0.2064805 ],\n",
       "       [1994.        ,    0.20143502],\n",
       "       [2992.        ,    0.1850314 ],\n",
       "       [5966.        ,    0.18274355],\n",
       "       [6179.        ,    0.18076808],\n",
       "       [1922.        ,    0.17508192],\n",
       "       [7580.        ,    0.17044318],\n",
       "       [ 900.        ,    0.17020091],\n",
       "       [1559.        ,    0.16799627],\n",
       "       [1383.        ,    0.16356727],\n",
       "       [1223.        ,    0.15073781],\n",
       "       [ 422.        ,    0.14937053]])"
      ]
     },
     "execution_count": 92,
     "metadata": {},
     "output_type": "execute_result"
    }
   ],
   "source": [
    "np.set_printoptions(suppress=True)\n",
    "np.hstack((np.argsort(-EF, axis=0)[0:19],\n",
    "         sorted(EF, reverse=True)[0:19]))\n",
    "\n",
    "# Time it took to run = 17.21 seconds\n",
    "# Iterations = 35\n",
    "# Journals (left) and top scores (right)\n",
    "#       [[8930, 1.10864047],\n",
    "#        [ 725, 0.24739567],\n",
    "#        [ 239, 0.24381836],\n",
    "#        [6523, 0.23517267],\n",
    "#        [6569, 0.22611775],\n",
    "#        [6697, 0.22525534],\n",
    "#        [6667, 0.21670067],\n",
    "#        [4408, 0.2064805 ],\n",
    "#        [1994, 0.20143502],\n",
    "#        [2992, 0.1850314 ],\n",
    "#        [5966, 0.18274355],\n",
    "#        [6179, 0.18076808],\n",
    "#        [1922, 0.17508192],\n",
    "#        [7580, 0.17044318],\n",
    "#        [ 900, 0.17020091],\n",
    "#        [1559, 0.16799627],\n",
    "#        [1383, 0.16356727],\n",
    "#        [1223, 0.15073781],\n",
    "#        [ 422, 0.14937053]])"
   ]
  }
 ],
 "metadata": {
  "kernelspec": {
   "display_name": "Python 3",
   "language": "python",
   "name": "python3"
  },
  "language_info": {
   "codemirror_mode": {
    "name": "ipython",
    "version": 3
   },
   "file_extension": ".py",
   "mimetype": "text/x-python",
   "name": "python",
   "nbconvert_exporter": "python",
   "pygments_lexer": "ipython3",
   "version": "3.6.4"
  }
 },
 "nbformat": 4,
 "nbformat_minor": 2
}
