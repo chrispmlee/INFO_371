{
 "cells": [
  {
   "cell_type": "code",
   "execution_count": 93,
   "metadata": {},
   "outputs": [
    {
     "name": "stderr",
     "output_type": "stream",
     "text": [
      "C:\\Users\\ipdavies\\AppData\\Local\\Continuum\\anaconda3\\lib\\site-packages\\ipykernel_launcher.py:30: RuntimeWarning: invalid value encountered in true_divide\n"
     ]
    },
    {
     "name": "stdout",
     "output_type": "stream",
     "text": [
      "33\n",
      "17.17 seconds\n"
     ]
    },
    {
     "data": {
      "text/plain": [
       "array([[4408.        ,    1.44811939],\n",
       "       [4801.        ,    1.41271931],\n",
       "       [6610.        ,    1.23503493],\n",
       "       [2056.        ,    0.67950245],\n",
       "       [6919.        ,    0.66487922],\n",
       "       [6667.        ,    0.63463528],\n",
       "       [4024.        ,    0.57723329],\n",
       "       [6523.        ,    0.48081521],\n",
       "       [8930.        ,    0.47777283],\n",
       "       [6857.        ,    0.43973514],\n",
       "       [5966.        ,    0.42971781],\n",
       "       [1995.        ,    0.38620683],\n",
       "       [1935.        ,    0.38512031],\n",
       "       [3480.        ,    0.37957765],\n",
       "       [4598.        ,    0.3727892 ],\n",
       "       [2880.        ,    0.33030656],\n",
       "       [3314.        ,    0.32750816],\n",
       "       [6569.        ,    0.3192717 ],\n",
       "       [5035.        ,    0.31677921]])"
      ]
     },
     "execution_count": 93,
     "metadata": {},
     "output_type": "execute_result"
    }
   ],
   "source": [
    "import numpy as np\n",
    "import pandas as pd\n",
    "import scipy as sp\n",
    "from scipy import sparse\n",
    "from scipy.sparse import csc_matrix\n",
    "import time\n",
    "\n",
    "start_time = time.clock() # start timing the program\n",
    "\n",
    "# constants\n",
    "alpha = 0.85\n",
    "epsilon = 0.00001\n",
    "\n",
    "# read data\n",
    "dat = pd.read_csv(\"links.txt\") # reading as df is faster than reading as array\n",
    "dat = dat.as_matrix() # convert to dense matrix\n",
    "\n",
    "# create empty adjacency matrix\n",
    "n = len(np.unique(dat[:,1])) # each individual journal will occupy one columna and one row\n",
    "Z = np.zeros((n,n)) # n x n zero matrix\n",
    "\n",
    "# fill empty matrix Z with citations\n",
    "for i in range(0, dat.shape[0]-1): # journals are numbered sequentially, so journal 1 will be indexed as [1,1] in our matrix\n",
    "    Z[dat[i,1], dat[i,0]] = dat[i,2]\n",
    "\n",
    "# set diagonals to zero\n",
    "np.fill_diagonal(Z,0)\n",
    "\n",
    "# normalize columns\n",
    "H = np.divide(Z, Z.sum(axis=0)) # each column now sums to 1\n",
    "H = np.nan_to_num(H) # set NaN to 0 (artifact of some columns having sum = 0)\n",
    "\n",
    "# identify dangling nodes by adding row vector d \n",
    "# d=1 if journal doesn't cite other journals, d=0 if it does\n",
    "d = np.zeros((len(H))) # empty vector\n",
    "for i in range(0,len(H)-1): # if journal has no outgoing citations, 1, else 0\n",
    "    if Z[:,i].sum(axis=0) == 0:\n",
    "        d[i] = 1\n",
    "    else:\n",
    "        d[i] = 0\n",
    "        \n",
    "# create article vector\n",
    "A_tot = len(H) # assume all journals publish one article\n",
    "a = np.ones((1, len(H))) \n",
    "a = a.reshape((len(H),1)) # reshape from row to column vector\n",
    "a = np.divide(a, A_tot) # normalize so vector sums to 1\n",
    "\n",
    "# initial start vector\n",
    "pi0 = np.zeros((len(Z),1)) # start pi0 at 0 so that L1 norm of pi-pi0 is > epsilon initially\n",
    "pi = (np.ones((len(Z), 1))) / len(Z) # start pi for all journals equally, 1/n\n",
    "count=1 # start iteration counter\n",
    "\n",
    "H = sp.sparse.csr_matrix(H) # convert H to sparse matrix to conserve memory\n",
    "\n",
    "# calculate influence vector\n",
    "# while np.linalg.norm((pi-pi0),ord=1) > epsilon:\n",
    "while np.sum(np.abs(pi-pi0)) > epsilon: # iterate until L1 norm is <= epsilon\n",
    "    count+=1\n",
    "    pi0 = pi.copy() # pi0 is the previous iteration of pi\n",
    "    pi = (alpha * H * pi0) + (alpha * np.dot(d, pi0) + (1-alpha))*a # calculate new iteration \n",
    "print(count)\n",
    "\n",
    "# calculate eigenfactor\n",
    "EF = 100* (sparse.csr_matrix.dot(H, pi)/sum(sparse.csr_matrix.dot(H, pi)))\n",
    "\n",
    "# print time it took to run program\n",
    "print (\"{:.2f}\".format(time.clock() - start_time), \"seconds\") \n",
    "\n",
    "# top 20 journals (left) and scores (right)\n",
    "\n",
    "np.set_printoptions(suppress=True)\n",
    "np.hstack((np.argsort(-EF, axis=0)[0:19],\n",
    "         sorted(EF, reverse=True)[0:19]))"
   ]
  }
 ],
 "metadata": {
  "kernelspec": {
   "display_name": "Python 3",
   "language": "python",
   "name": "python3"
  },
  "language_info": {
   "codemirror_mode": {
    "name": "ipython",
    "version": 3
   },
   "file_extension": ".py",
   "mimetype": "text/x-python",
   "name": "python",
   "nbconvert_exporter": "python",
   "pygments_lexer": "ipython3",
   "version": "3.6.4"
  }
 },
 "nbformat": 4,
 "nbformat_minor": 2
}
