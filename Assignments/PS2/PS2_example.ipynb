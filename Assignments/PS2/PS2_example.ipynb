{
 "cells": [
  {
   "cell_type": "code",
   "execution_count": 1,
   "metadata": {},
   "outputs": [],
   "source": [
    "import numpy as np\n",
    "import pandas as pd\n",
    "from  scipy import sparse\n",
    "from scipy.sparse import csc_matrix"
   ]
  },
  {
   "cell_type": "code",
   "execution_count": 3,
   "metadata": {},
   "outputs": [
    {
     "name": "stderr",
     "output_type": "stream",
     "text": [
      "C:\\Users\\ipdavies\\AppData\\Local\\Continuum\\anaconda3\\lib\\site-packages\\ipykernel_launcher.py:16: RuntimeWarning: invalid value encountered in true_divide\n",
      "  app.launch_new_instance()\n"
     ]
    }
   ],
   "source": [
    "# calculate scores with example matrix\n",
    "\n",
    "# constants\n",
    "alpha = 0.85\n",
    "epsilon = 0.00001\n",
    "\n",
    "# create adjacency matrix\n",
    "Z = np.matrix([[1,0,2,0,4,3],[3,0,1,1,0,0],\n",
    "             [2,0,4,0,1,0],[0,0,1,0,0,1],\n",
    "             [8,0,3,0,5,2],[0,0,0,0,0,0]])\n",
    "\n",
    "# set diagonals to zero\n",
    "np.fill_diagonal(Z,0)\n",
    "\n",
    "# normalize columns\n",
    "H = np.divide(Z, Z.sum(axis=0))\n",
    "H=np.nan_to_num(H) # set NaN to 0\n",
    "\n",
    "# identify dangling nodes by adding vector d (1 if doesn't cite other journals, 0 if it does)\n",
    "d = np.zeros((len(Z))) # create empty row vector to hold dangling node identifiers\n",
    "\n",
    "for i in range(0,len(Z)): # if journal has no outgoing citations, 1, else 0\n",
    "    if Z[:,i].sum(axis=0) == 0:\n",
    "        d[i] = 1\n",
    "    else:\n",
    "        d[i] = 0\n",
    "        \n",
    "# create article vector\n",
    "A_tot = 14\n",
    "a = np.array([3,2,5,1,2,1])\n",
    "a = a.reshape((len(a),1 ))\n",
    "a = np.divide(a, A_tot)\n",
    "\n",
    "# initial start vector\n",
    "pi0 = np.zeros((len(Z),1))\n",
    "pi = (np.ones((len(Z), 1))) / len(Z) \n",
    "count=1\n",
    "\n",
    "# calculate influence vector\n",
    "while np.linalg.norm((pi-pi0),ord=1) > epsilon:\n",
    "    count+=1\n",
    "    pi0 = pi.copy() # pi(k)\n",
    "    pi = np.array(alpha * H * pi0 + (alpha * np.dot(d, pi0) + (1-alpha))*a) # pi(k+1)\n",
    "# print(count) \n",
    "\n",
    "# calculate eigenfactor\n",
    "EF = 100* (np.dot(H, pi)/sum(np.dot(H, pi)))"
   ]
  },
  {
   "cell_type": "code",
   "execution_count": 17,
   "metadata": {},
   "outputs": [
    {
     "data": {
      "text/plain": [
       "array([[ 1,  2,  3],\n",
       "       [ 4,  5,  6],\n",
       "       [ 7,  8,  9],\n",
       "       [10, 11, 12],\n",
       "       [13, 14, 15],\n",
       "       [16, 17, 18]])"
      ]
     },
     "execution_count": 17,
     "metadata": {},
     "output_type": "execute_result"
    }
   ],
   "source": [
    "Q = np.array([[1,2,3,4,5,6],\n",
    "            [7,8,9,10,11,12],\n",
    "            [13,14,15,16,17,18]])\n",
    "Q = Q.reshape((6,3 ))\n",
    "Q\n",
    "J = np.zeros((len(Q),len(Q)))\n",
    "\n"
   ]
  },
  {
   "cell_type": "code",
   "execution_count": 10,
   "metadata": {},
   "outputs": [
    {
     "data": {
      "text/plain": [
       "range(0, 5)"
      ]
     },
     "execution_count": 10,
     "metadata": {},
     "output_type": "execute_result"
    }
   ],
   "source": [
    "range(0, Z.shape[0]-1)"
   ]
  }
 ],
 "metadata": {
  "kernelspec": {
   "display_name": "Python 3",
   "language": "python",
   "name": "python3"
  },
  "language_info": {
   "codemirror_mode": {
    "name": "ipython",
    "version": 3
   },
   "file_extension": ".py",
   "mimetype": "text/x-python",
   "name": "python",
   "nbconvert_exporter": "python",
   "pygments_lexer": "ipython3",
   "version": "3.6.4"
  }
 },
 "nbformat": 4,
 "nbformat_minor": 2
}
